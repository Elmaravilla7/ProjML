{
 "cells": [
  {
   "cell_type": "code",
   "execution_count": 2,
   "metadata": {},
   "outputs": [
    {
     "name": "stderr",
     "output_type": "stream",
     "text": [
      "C:\\ProgramData\\Anaconda3\\lib\\site-packages\\sklearn\\utils\\deprecation.py:143: FutureWarning: The sklearn.utils.testing module is  deprecated in version 0.22 and will be removed in version 0.24. The corresponding classes / functions should instead be imported from sklearn.utils. Anything that cannot be imported from sklearn.utils is now part of the private API.\n",
      "  warnings.warn(message, FutureWarning)\n"
     ]
    }
   ],
   "source": [
    "import os\n",
    "import glob\n",
    "import numpy as np\n",
    "import cv2\n",
    "from PIL import Image as I\n",
    "import tensorflow as tf\n",
    "import pandas as pd\n",
    "import random\n",
    "from sklearn.model_selection import train_test_split\n",
    "from sklearn.model_selection import cross_val_score\n",
    "from collections import Counter\n",
    "from sklearn.linear_model import SGDClassifier,LogisticRegression\n",
    "from sklearn.naive_bayes import GaussianNB\n",
    "from sklearn.svm import SVC\n",
    "from sklearn.metrics import accuracy_score,f1_score,roc_auc_score,precision_score,recall_score\n",
    "from sklearn.utils.testing import ignore_warnings\n",
    "from sklearn.exceptions import ConvergenceWarning\n",
    "from sklearn.base import BaseEstimator, TransformerMixin\n",
    "from sklearn.ensemble import AdaBoostClassifier\n",
    "from sklearn.tree import DecisionTreeClassifier\n",
    "from sklearn.model_selection import KFold\n",
    "from sklearn.neighbors import KNeighborsClassifier\n",
    "from sklearn.model_selection import GridSearchCV\n",
    "from sklearn.preprocessing import LabelEncoder\n",
    "from tensorflow.keras.utils import to_categorical\n",
    "from tensorflow.keras.wrappers.scikit_learn import KerasClassifier\n",
    "from tensorflow import keras\n",
    "from tensorflow.keras import layers  \n",
    "from tensorflow.keras.wrappers.scikit_learn import KerasClassifier\n",
    "from keras.preprocessing import image\n",
    "import matplotlib.pyplot as plt\n",
    "from tensorflow.keras.models import Sequential\n",
    "import seaborn as sns\n",
    "from sklearn.metrics import confusion_matrix,classification_report\n",
    "import pickle as pkl\n",
    "import warnings\n",
    "warnings.simplefilter(action='ignore', category=FutureWarning)\n",
    "from tensorflow.keras.models import model_from_json\n",
    "from tensorflow.keras.layers import Dense, Activation,Conv2D,MaxPooling2D,Flatten,Dropout\n",
    "from sklearn.preprocessing import MinMaxScaler\n",
    "from sklearn import metrics\n",
    "import matplotlib\n",
    "from sklearn.decomposition import PCA"
   ]
  },
  {
   "cell_type": "code",
   "execution_count": 3,
   "metadata": {},
   "outputs": [],
   "source": [
    "PATH=\"C://Users//emiliocasella//Desktop//ProgettoML//immagini-2\""
   ]
  },
  {
   "cell_type": "code",
   "execution_count": 4,
   "metadata": {},
   "outputs": [],
   "source": [
    "def loadD(PATH):\n",
    "    data=[]\n",
    "    fnames=glob.glob(PATH+'//*_*.jpg')\n",
    "    i,j=cv2.imread(fnames[0],0).shape\n",
    "    target=[os.path.basename(t).split(\"_\")[0] for t in fnames]\n",
    "    for f in fnames:\n",
    "        img=cv2.imread(f,0)\n",
    "        img = cv2.resize(img, (i, j))\n",
    "        data.append(img)\n",
    "    return np.array(data).reshape(len(data),i*j)/255,np.array(target).reshape(len(data)),i,j"
   ]
  },
  {
   "cell_type": "code",
   "execution_count": 5,
   "metadata": {},
   "outputs": [],
   "source": [
    "X,y,i,j=loadD(PATH)"
   ]
  },
  {
   "cell_type": "code",
   "execution_count": 6,
   "metadata": {},
   "outputs": [],
   "source": [
    "def saveM(model,fname):\n",
    "    fname=fname+'.model'\n",
    "    pkl.dump(model, open(fname, 'wb'))\n",
    "\n",
    "def loadM(fname):\n",
    "    return pkl.load(open(fname+'.model', 'rb'))\n",
    "\n",
    "def saveNN(model,fname):\n",
    "    json_model = model.model.to_json()\n",
    "    open('nn.json', 'w').write(json_model)\n",
    "    model.model.save_weights('nn.h5', overwrite=True)\n",
    "\n",
    "def loadNN(fname):\n",
    "    model = model_from_json(open(fname+'.json').read())\n",
    "    model.load_weights(fname+'.h5')\n",
    "    model.compile(loss='sparse_categorical_crossentropy', optimizer='adam', metrics=['accuracy'])\n",
    "    return model\n",
    "    \n",
    "    "
   ]
  },
  {
   "cell_type": "code",
   "execution_count": 200,
   "metadata": {},
   "outputs": [],
   "source": [
    "def create_network():\n",
    "    model_conv = keras.Sequential()\n",
    "    model_conv.add(layers.Conv2D(32, (15, 15), activation='relu', input_shape=(i, j, 1)))\n",
    "    model_conv.add(layers.MaxPooling2D((2, 2)))\n",
    "    model_conv.add(layers.Conv2D(64, (3, 3), activation='relu'))\n",
    "    model_conv.add(layers.MaxPooling2D((2, 2)))\n",
    "    model_conv.add(layers.Conv2D(64, (3, 3), activation='relu'))\n",
    "    model_conv.add(layers.Flatten())\n",
    "    model_conv.add(layers.Dense(4, activation='softmax'))\n",
    "    model_conv.compile(loss='sparse_categorical_crossentropy', optimizer='adam', metrics=['accuracy']);\n",
    "    return model_conv\n",
    "\n",
    "def preNN(X,y,i,j):\n",
    "    encoder = LabelEncoder()\n",
    "    encoder.fit(y)\n",
    "    y = encoder.transform(y)\n",
    "    y = to_categorical(y)    \n",
    "    y = np.argmax(y, axis=1)\n",
    "    X = X.reshape((len(X),i,j,1))\n",
    "    return X,y\n",
    "\n",
    "class MyClassificatorTrainNN(BaseEstimator, TransformerMixin):\n",
    "    \n",
    "    def __init__(self):\n",
    "        pass\n",
    "    \n",
    "    def fit(self, X, y):\n",
    "        return self\n",
    "\n",
    "    def transform(self, X,y,i,j):\n",
    "        print(\"Preprocessing for NN...\")\n",
    "        X,y=preNN(X,y,i,j)\n",
    "        X_train, X_test, y_train, y_test =train_test_split(X, y,\n",
    "                                                        test_size=0.2,shuffle=True) \n",
    "        print(\"Tuning NN...\")\n",
    "        nn_clf = KerasClassifier(build_fn=create_network, epochs=5, verbose=0)\n",
    "        nn_clf.fit(X_train,y_train)\n",
    "        saveNN(nn_clf,\"nn\")\n",
    "        "
   ]
  },
  {
   "cell_type": "code",
   "execution_count": 201,
   "metadata": {},
   "outputs": [],
   "source": [
    "def compute_performance(estimators, X, y,i,j):\n",
    "    score_dict = {}\n",
    "    for e in estimators:\n",
    "        if(e.__class__.__name__=='KerasClassifier'):\n",
    "            X,y=preNN(X,y,i,j)\n",
    "        score_dict[e.__class__.__name__] = {}\n",
    "        cv = KFold(n_splits=10, random_state=1, shuffle=True)\n",
    "        score = cross_val_score(e, X ,y, cv=cv ,scoring='accuracy',n_jobs=-1)\n",
    "        score_dict[e.__class__.__name__]['accuracy/std'] = (np.round(np.mean(score),3),np.round(np.std(score),3))\n",
    "    return score_dict\n",
    "\n",
    "def tuningKNN(X_train,y_train,knn):\n",
    "    model = KNeighborsClassifier(n_jobs=-1)\n",
    "    params = {'n_neighbors':[4,5,6,7,8],\n",
    "          'weights':['distance'],\n",
    "          'algorithm':['auto']\n",
    "             }\n",
    "    grid_search = GridSearchCV(knn, params,scoring='accuracy',n_jobs=-1, cv=10)\n",
    "    grid_search.fit(X_train, y_train)\n",
    "    print(\"Best Param:\", grid_search.best_params_)\n",
    "    best_KNN = grid_search.best_estimator_\n",
    "    return best_KNN\n",
    "\n",
    "def tuningSVC(X_train,y_train,svc):\n",
    "    param_svc_grid ={'kernel': ['poly', 'linear', 'rbf','sigmoid'],\n",
    "                      'degree':[2]},\n",
    "    grid_search = GridSearchCV(svc, param_svc_grid,scoring='accuracy',n_jobs=-1, cv=10)\n",
    "    grid_search.fit(X_train, y_train)\n",
    "    print(\"Best Param:\", grid_search.best_params_)\n",
    "    best_svc = grid_search.best_estimator_\n",
    "    return best_svc\n",
    "\n",
    "\n",
    "class MyClassificatorTrain(BaseEstimator, TransformerMixin):\n",
    "    \n",
    "    def __init__(self):\n",
    "        pass\n",
    "    \n",
    "    def fit(self, X, y):\n",
    "        return self\n",
    "\n",
    "    def transform(self, X,y):\n",
    "        X_train, X_test, y_train, y_test =train_test_split(X, y,\n",
    "                                                     test_size=0.2,shuffle=True)\n",
    "    \n",
    "        print(\"Create models...\")\n",
    "        print(\"AdaBoost...\")\n",
    "        ada_clf=AdaBoostClassifier(DecisionTreeClassifier(max_depth=1),n_estimators=600, algorithm='SAMME.R',learning_rate=.5).fit(X_train,y_train)\n",
    "        saveM(ada_clf,\"ada\")\n",
    "        print(\"Tuning KNN...\")\n",
    "        knn_clf=KNeighborsClassifier(weights=\"distance\")\n",
    "        knn_clf.fit(X_train, y_train)\n",
    "        knn_best=tuningKNN(X_train,y_train,knn_clf)\n",
    "        saveM(knn_best,\"knn\")\n",
    "        print(\"Tuning SVC...\")\n",
    "        svc_clf=SVC(gamma='auto')\n",
    "        svc_clf.fit(X_train, y_train)\n",
    "        svc_best = tuningSVC(X_train,y_train,svc_clf)\n",
    "        saveM(svc_best,\"svc\")\n",
    "        MyClassificatorTrainNN().transform(X,y,i,j)\n",
    "        print(\"All models Done!\")\n",
    "        "
   ]
  },
  {
   "cell_type": "code",
   "execution_count": 13,
   "metadata": {},
   "outputs": [
    {
     "name": "stdout",
     "output_type": "stream",
     "text": [
      "Preprocessing for NN...\n",
      "Tuning NN...\n",
      "All models Done!\n"
     ]
    }
   ],
   "source": [
    "MyClassificatorTrain().transform(X,y)\n"
   ]
  },
  {
   "cell_type": "code",
   "execution_count": 14,
   "metadata": {},
   "outputs": [
    {
     "data": {
      "text/html": [
       "<div>\n",
       "<style scoped>\n",
       "    .dataframe tbody tr th:only-of-type {\n",
       "        vertical-align: middle;\n",
       "    }\n",
       "\n",
       "    .dataframe tbody tr th {\n",
       "        vertical-align: top;\n",
       "    }\n",
       "\n",
       "    .dataframe thead th {\n",
       "        text-align: right;\n",
       "    }\n",
       "</style>\n",
       "<table border=\"1\" class=\"dataframe\">\n",
       "  <thead>\n",
       "    <tr style=\"text-align: right;\">\n",
       "      <th></th>\n",
       "      <th>AdaBoostClassifier</th>\n",
       "      <th>KNeighborsClassifier</th>\n",
       "      <th>SVC</th>\n",
       "      <th>KerasClassifier</th>\n",
       "    </tr>\n",
       "  </thead>\n",
       "  <tbody>\n",
       "    <tr>\n",
       "      <th>accuracy/std</th>\n",
       "      <td>(0.915, 0.014)</td>\n",
       "      <td>(0.967, 0.01)</td>\n",
       "      <td>(0.964, 0.008)</td>\n",
       "      <td>(0.95, 0.016)</td>\n",
       "    </tr>\n",
       "  </tbody>\n",
       "</table>\n",
       "</div>"
      ],
      "text/plain": [
       "             AdaBoostClassifier KNeighborsClassifier             SVC  \\\n",
       "accuracy/std     (0.915, 0.014)        (0.967, 0.01)  (0.964, 0.008)   \n",
       "\n",
       "             KerasClassifier  \n",
       "accuracy/std   (0.95, 0.016)  "
      ]
     },
     "execution_count": 14,
     "metadata": {},
     "output_type": "execute_result"
    }
   ],
   "source": [
    "ada_clf=AdaBoostClassifier(DecisionTreeClassifier(max_depth=1),n_estimators=600, algorithm='SAMME.R',learning_rate=.5)\n",
    "knn_clf=KNeighborsClassifier(n_neighbors=4,algorithm='auto',weights=\"distance\")\n",
    "svc_clf=SVC(kernel='linear',degree=2)\n",
    "nn_clf = KerasClassifier(build_fn=create_network, epochs=5, verbose=0)\n",
    "score_dict=compute_performance([ada_clf,knn_clf,svc_clf,nn_clf], X, y,i,j)\n",
    "score_df = pd.DataFrame(score_dict)\n",
    "score_df.head()"
   ]
  },
  {
   "cell_type": "code",
   "execution_count": 21,
   "metadata": {},
   "outputs": [],
   "source": [
    "def confusionMatNN(clf,X_test,y_test):\n",
    "    pred = clf.predict_classes(X_test)\n",
    "    score=accuracy_score(y_test, pred)\n",
    "    ax =sns.heatmap(confusion_matrix(y_test, pred), annot=True, fmt='.1f', cmap=sns.color_palette(\"Reds\", 25))\n",
    "    bottom, top = ax.get_ylim()\n",
    "    ax.set_ylim(bottom + 0.5, top - 0.5)\n",
    "    plt.savefig(clf.__class__.__name__+'.png') \n",
    "    plt.show()\n",
    "    print(classification_report(y_test, pred)) \n",
    "    \n",
    "def confusionMat(clf,X_test,y_test):\n",
    "    pred = clf.predict(X_test)\n",
    "    score=accuracy_score(y_test, pred)\n",
    "    ax =sns.heatmap(confusion_matrix(y_test, pred), annot=True, fmt='.1f', cmap=sns.color_palette(\"Reds\", 25))\n",
    "    bottom, top = ax.get_ylim()\n",
    "    ax.set_ylim(bottom + 0.5, top - 0.5)\n",
    "    plt.savefig(clf.__class__.__name__+'.png') \n",
    "    plt.show()\n",
    "    print(classification_report(y_test, pred)) "
   ]
  },
  {
   "cell_type": "code",
   "execution_count": 19,
   "metadata": {},
   "outputs": [],
   "source": [
    "X_train, X_test, y_train, y_test =train_test_split(X, y,test_size=0.2)\n",
    "X1,y1=preNN(X,y,i,j)\n",
    "X1_train,X1_test,y1_train,y1_test=train_test_split(X1,y1,test_size=0.2)\n",
    "ada_clf_t=loadM(\"ada\")\n",
    "knn_clf_t=loadM(\"knn\")\n",
    "svc_clf_t=loadM(\"svc\")\n",
    "nn_clf_t=loadNN(\"nn\")"
   ]
  },
  {
   "cell_type": "code",
   "execution_count": 24,
   "metadata": {},
   "outputs": [
    {
     "data": {
      "image/png": "[encoded data removed]",
      "text/plain": [
       "<Figure size 432x288 with 2 Axes>"
      ]
     },
     "metadata": {
      "needs_background": "light"
     },
     "output_type": "display_data"
    },
    {
     "name": "stdout",
     "output_type": "stream",
     "text": [
      "              precision    recall  f1-score   support\n",
      "\n",
      "       jeans       0.68      0.65      0.67       115\n",
      "      shirts       0.99      0.96      0.98       598\n",
      "    trousers       0.60      0.64      0.62        96\n",
      "     watches       0.95      0.99      0.97       432\n",
      "\n",
      "    accuracy                           0.92      1241\n",
      "   macro avg       0.81      0.81      0.81      1241\n",
      "weighted avg       0.92      0.92      0.92      1241\n",
      "\n"
     ]
    }
   ],
   "source": [
    "confusionMat(ada_clf_t,X_test,y_test)"
   ]
  },
  {
   "cell_type": "code",
   "execution_count": 21,
   "metadata": {},
   "outputs": [
    {
     "data": {
      "image/png": "[encoded data removed]",
      "text/plain": [
       "<Figure size 432x288 with 2 Axes>"
      ]
     },
     "metadata": {
      "needs_background": "light"
     },
     "output_type": "display_data"
    },
    {
     "name": "stdout",
     "output_type": "stream",
     "text": [
      "              precision    recall  f1-score   support\n",
      "\n",
      "       jeans       0.98      0.98      0.98       122\n",
      "      shirts       1.00      1.00      1.00       529\n",
      "    trousers       1.00      0.97      0.98        93\n",
      "     watches       0.99      1.00      1.00       497\n",
      "\n",
      "    accuracy                           1.00      1241\n",
      "   macro avg       0.99      0.99      0.99      1241\n",
      "weighted avg       1.00      1.00      1.00      1241\n",
      "\n"
     ]
    }
   ],
   "source": [
    "confusionMat(knn_clf_t,X_test,y_test)"
   ]
  },
  {
   "cell_type": "code",
   "execution_count": 22,
   "metadata": {},
   "outputs": [
    {
     "data": {
      "image/png": "[encoded data removed]",
      "text/plain": [
       "<Figure size 432x288 with 2 Axes>"
      ]
     },
     "metadata": {
      "needs_background": "light"
     },
     "output_type": "display_data"
    },
    {
     "name": "stdout",
     "output_type": "stream",
     "text": [
      "              precision    recall  f1-score   support\n",
      "\n",
      "       jeans       0.98      0.96      0.97       122\n",
      "      shirts       1.00      1.00      1.00       529\n",
      "    trousers       0.96      0.98      0.97        93\n",
      "     watches       1.00      1.00      1.00       497\n",
      "\n",
      "    accuracy                           0.99      1241\n",
      "   macro avg       0.98      0.98      0.98      1241\n",
      "weighted avg       0.99      0.99      0.99      1241\n",
      "\n"
     ]
    }
   ],
   "source": [
    "confusionMat(svc_clf_t,X_test,y_test)"
   ]
  },
  {
   "cell_type": "code",
   "execution_count": 22,
   "metadata": {},
   "outputs": [
    {
     "data": {
      "image/png": "[encoded data removed]",
      "text/plain": [
       "<Figure size 432x288 with 2 Axes>"
      ]
     },
     "metadata": {
      "needs_background": "light"
     },
     "output_type": "display_data"
    },
    {
     "name": "stdout",
     "output_type": "stream",
     "text": [
      "              precision    recall  f1-score   support\n",
      "\n",
      "           0       0.60      0.98      0.74       113\n",
      "           1       0.99      0.99      0.99       563\n",
      "           2       0.97      0.28      0.43       105\n",
      "           3       0.98      0.99      0.98       460\n",
      "\n",
      "    accuracy                           0.93      1241\n",
      "   macro avg       0.88      0.81      0.79      1241\n",
      "weighted avg       0.95      0.93      0.92      1241\n",
      "\n"
     ]
    }
   ],
   "source": [
    "confusionMatNN(nn_clf_t,X1_test,y1_test)"
   ]
  },
  {
   "cell_type": "code",
   "execution_count": 89,
   "metadata": {},
   "outputs": [
    {
     "data": {
      "image/png": "[encoded data removed]",
      "text/plain": [
       "<Figure size 432x288 with 1 Axes>"
      ]
     },
     "metadata": {},
     "output_type": "display_data"
    }
   ],
   "source": [
    "X,y,i,j=loadD(PATH)\n",
    "dataFrame=pd.DataFrame(X,columns=[str(h) for h in range(i*j)])\n",
    "dataFrame['class']=y\n",
    "pie=dataFrame['class'].value_counts()\n",
    "dataFrame['class']=dataFrame['class'].replace('shirts',1)\n",
    "dataFrame['class']=dataFrame['class'].replace('watches',0)\n",
    "dataFrame['class']=dataFrame['class'].replace('jeans',0)\n",
    "dataFrame['class']=dataFrame['class'].replace('trousers',0)\n",
    "correctData=dataFrame[dataFrame['class']==1]\n",
    "anomalyData=dataFrame[dataFrame['class']==0]\n",
    "labels=[\"Shirts \"+str(pie[0]),\"Watches \"+str(pie[1]),\"Jeans \"+str(pie[2]),\"Trousers \"+str(pie[3])]\n",
    "plt.pie(pie, labels=labels,colors=['darkblue','darkorange','darkgreen','darkred'])\n",
    "plt.show()"
   ]
  },
  {
   "cell_type": "code",
   "execution_count": 90,
   "metadata": {},
   "outputs": [
    {
     "data": {
      "image/png": "[encoded data removed]",
      "text/plain": [
       "<Figure size 432x288 with 1 Axes>"
      ]
     },
     "metadata": {
      "needs_background": "light"
     },
     "output_type": "display_data"
    }
   ],
   "source": [
    "correctData_y=correctData['class']\n",
    "correctData_X=correctData.drop(\"class\",axis=1).values\n",
    "correctData_X_train,correctData_X_test,correctData_y_train,correctData_y_test=train_test_split(correctData_X,correctData_y,test_size=0.2,shuffle=True)\n",
    "\n",
    "model = Sequential()\n",
    "model.add(Dense(units=2400, activation='relu',input_dim=(i*j)))\n",
    "model.add(Dense(units=200, activation='relu'))\n",
    "model.add(Dense(units=2400, activation='relu'))\n",
    "model.add(Dense(units=i*j, activation='relu'))\n",
    "model.compile(optimizer='adam', loss='mse', metrics=['accuracy'])\n",
    "\n",
    "history=model.fit(correctData_X_train,correctData_X_train,epochs=5,validation_data = (correctData_X_test, correctData_X_test),verbose=0)\n",
    "training_loss = history.history['loss']\n",
    "test_loss = history.history['val_loss']\n",
    "epoch_count = range(1, len(training_loss) + 1)\n",
    "plt.plot(epoch_count, training_loss, 'r--')\n",
    "plt.plot(epoch_count, test_loss, 'b-')\n",
    "plt.legend(['Training Loss', 'Test Loss'])\n",
    "plt.xlabel('Epoch')\n",
    "plt.ylabel('Loss')\n",
    "plt.show();"
   ]
  },
  {
   "cell_type": "code",
   "execution_count": 93,
   "metadata": {},
   "outputs": [],
   "source": [
    "def net():\n",
    "    model = Sequential()\n",
    "    model.add(Dense(units=2400, activation='relu',input_dim=(i*j)))\n",
    "    model.add(Dense(units=200, activation='relu'))\n",
    "    model.add(Dense(units=2400, activation='relu'))\n",
    "    model.add(Dense(units=i*j, activation='relu'))\n",
    "    model.compile(optimizer='adam', loss='mse', metrics=['accuracy'])\n",
    "    return model\n",
    "\n",
    "def plotErrAnom(correct_error,anomaly_error):\n",
    "    plt.plot(correct_error,color=\"green\",label='Errors')\n",
    "    plt.plot(np.arange(len(correct_error),len(correct_error)+len(anomaly_error)),anomaly_error,color=\"red\",label='Anomaly')\n",
    "    plt.legend(loc=\"upper left\")\n",
    "    plt.show()\n",
    "    \n",
    "def mean_squared_err(true,pred):\n",
    "    err=[]\n",
    "    col=true.shape[1]\n",
    "    true=list(true)\n",
    "    pred=list(pred)\n",
    "    for i in range(len(true)):\n",
    "        p=pred[i]\n",
    "        t=true[i]\n",
    "        e=p-t\n",
    "        e=e**2\n",
    "        e=np.sum(e)\n",
    "        e=e/col\n",
    "        err.append(e)\n",
    "    return np.array(err)  \n",
    "\n",
    "def roc(values,predictions,labels):\n",
    "    error= mean_squared_err(values,predictions)\n",
    "    roc_x=[]\n",
    "    roc_y=[]\n",
    "    roc=0\n",
    "    oldfpr=0\n",
    "    oldtpr=0\n",
    "    steps=100\n",
    "    scaler = MinMaxScaler(feature_range=(0,1))\n",
    "    error =1- scaler.fit_transform(error.reshape(-1,1))\n",
    "    fpr,tpr,th=metrics.roc_curve(labels,error)\n",
    "    for i in range(len(fpr)):\n",
    "        FPR,TPR=fpr[i],tpr[i]\n",
    "        roc+=(TPR+oldtpr)*(FPR-oldfpr)/2\n",
    "        oldfpr=FPR\n",
    "        oldtpr=TPR\n",
    "        roc_x.append(FPR)\n",
    "        roc_y.append(TPR)        \n",
    "    plt.plot([0]+roc_x, [0]+roc_y, label='ROC curve (area = %0.3f)' % roc)\n",
    "    plt.plot([0,1], [0,1], linestyle='--')\n",
    "    plt.xlabel('False Positive Rate')\n",
    "    plt.ylabel('True Positive Rate')\n",
    "    plt.title('Receiver operating characteristic')\n",
    "    plt.legend(loc=\"lower left\")\n",
    "    plt.show()\n",
    "    return roc\n",
    "\n",
    "    def thresholdErr(error,max_threshold):\n",
    "    x=[]\n",
    "    for i in error:\n",
    "        if(i>max_threshold):\n",
    "            x.append(0)\n",
    "        else:\n",
    "            x.append(1)\n",
    "    return x\n",
    "\n",
    "class MyClassificatorAnomaly(BaseEstimator, TransformerMixin):\n",
    "    \n",
    "    def __init__(self):\n",
    "        pass\n",
    "    \n",
    "    def fit(self, correctData, anomalyData):\n",
    "        return self\n",
    "\n",
    "    def transform(self, correctData, anomalyData,num):\n",
    "        correctData_y=correctData['class']\n",
    "        correctData_X=correctData.drop(\"class\",axis=1).values\n",
    "        correctData_X_train,correctData_X_test,correctData_y_train,correctData_y_test=train_test_split(correctData_X,correctData_y,test_size=0.2,shuffle=True)\n",
    "        anomalyData_y=anomalyData['class']\n",
    "        anomalyData_X=anomalyData.drop(\"class\",axis=1).values\n",
    "        anomalyData_X_train,anomalyData_X_test,anomalyData_y_train,anomalyData_y_test=train_test_split(anomalyData_X,anomalyData_y,test_size=0.2,shuffle=True)\n",
    "        if(num==0):\n",
    "            print(\"Anomaly detections with MSE...\")\n",
    "            model=net()\n",
    "            predicted_correct=model.predict(correctData_X_test)\n",
    "            predicted_anomaly=model.predict(anomalyData_X)\n",
    "            correct_error= mean_squared_err(correctData_X_test,predicted_correct)\n",
    "            anomaly_error= mean_squared_err(anomalyData_X,predicted_anomaly)\n",
    "            values=np.concatenate((correctData_X_test,anomalyData_X))\n",
    "            labels=np.concatenate((correctData_y_test,anomalyData_y))\n",
    "            predictions=model.predict(values)\n",
    "        else:\n",
    "            print(\"Anomaly detections with PCA...\")\n",
    "            model = PCA(n_components=1000)\n",
    "            model.fit(correctData_X_train)\n",
    "            predicted_correct=model.inverse_transform(model.transform(correctData_X_test))\n",
    "            predicted_anomaly=model.inverse_transform(model.transform(anomalyData_X))\n",
    "            correct_error= mean_squared_err(correctData_X_test,predicted_correct)\n",
    "            anomaly_error= mean_squared_err(anomalyData_X,predicted_anomaly)\n",
    "            values=np.concatenate((correctData_X_test,anomalyData_X))\n",
    "            labels=np.concatenate((correctData_y_test,anomalyData_y))\n",
    "            predictions=model.inverse_transform(model.transform(values))\n",
    "        print(\"done!\")\n",
    "        return model,correct_error,anomaly_error,values,predictions,labels"
   ]
  },
  {
   "cell_type": "code",
   "execution_count": 94,
   "metadata": {},
   "outputs": [
    {
     "name": "stdout",
     "output_type": "stream",
     "text": [
      "Anomaly detections with MSE...\n",
      "done!\n"
     ]
    }
   ],
   "source": [
    "model1,correct_error1,anomaly_error1,values1,predictions1,labels1=MyClassificatorAnomaly().transform(correctData, anomalyData,0)"
   ]
  },
  {
   "cell_type": "code",
   "execution_count": 96,
   "metadata": {},
   "outputs": [
    {
     "data": {
      "image/png": "[encoded data removed]",
      "text/plain": [
       "<Figure size 432x288 with 1 Axes>"
      ]
     },
     "metadata": {
      "needs_background": "light"
     },
     "output_type": "display_data"
    }
   ],
   "source": [
    "plotErrAnom(correct_error1,anomaly_error1)"
   ]
  },
  {
   "cell_type": "code",
   "execution_count": 95,
   "metadata": {},
   "outputs": [
    {
     "data": {
      "image/png": "[encoded data removed]",
      "text/plain": [
       "<Figure size 432x288 with 1 Axes>"
      ]
     },
     "metadata": {
      "needs_background": "light"
     },
     "output_type": "display_data"
    },
    {
     "data": {
      "text/plain": [
       "0.5296481242980822"
      ]
     },
     "execution_count": 95,
     "metadata": {},
     "output_type": "execute_result"
    }
   ],
   "source": [
    "roc(values1,predictions1,labels1)"
   ]
  },
  {
   "cell_type": "code",
   "execution_count": 97,
   "metadata": {},
   "outputs": [
    {
     "name": "stdout",
     "output_type": "stream",
     "text": [
      "Anomaly detections with PCA...\n",
      "done!\n"
     ]
    }
   ],
   "source": [
    "model2,correct_error2,anomaly_error2,values2,predictions2,labels2=MyClassificatorAnomaly().transform(correctData, anomalyData,1)"
   ]
  },
  {
   "cell_type": "code",
   "execution_count": 99,
   "metadata": {},
   "outputs": [
    {
     "data": {
      "image/png": "[encoded data removed]",
      "text/plain": [
       "<Figure size 432x288 with 1 Axes>"
      ]
     },
     "metadata": {
      "needs_background": "light"
     },
     "output_type": "display_data"
    }
   ],
   "source": [
    "plotErrAnom(correct_error2,anomaly_error2)"
   ]
  },
  {
   "cell_type": "code",
   "execution_count": 98,
   "metadata": {},
   "outputs": [
    {
     "data": {
      "image/png": "[encoded data removed]",
      "text/plain": [
       "<Figure size 432x288 with 1 Axes>"
      ]
     },
     "metadata": {
      "needs_background": "light"
     },
     "output_type": "display_data"
    },
    {
     "data": {
      "text/plain": [
       "0.9434323960170449"
      ]
     },
     "execution_count": 98,
     "metadata": {},
     "output_type": "execute_result"
    }
   ],
   "source": [
    "roc(values2,predictions2,labels2)"
   ]
  },
  {
   "cell_type": "code",
   "execution_count": 100,
   "metadata": {},
   "outputs": [],
   "source": [
    "saveM(pca,\"BestAnomayModel\")"
   ]
  },
  {
   "cell_type": "code",
   "execution_count": 102,
   "metadata": {},
   "outputs": [
    {
     "data": {
      "text/plain": [
       "0.9487427466150871"
      ]
     },
     "execution_count": 102,
     "metadata": {},
     "output_type": "execute_result"
    }
   ],
   "source": [
    "y = dataFrame[\"class\"]\n",
    "X = dataFrame.drop(\"class\",axis=1).values\n",
    "anomaly_detection=loadM(\"BestAnomayModel\")\n",
    "pred=pca.inverse_transform(pca.transform(X))\n",
    "err= mean_squared_err(X,pred)\n",
    "y_pred=(np.array(thresholdErr(err,0.0004)))\n",
    "accuracy_score(y,y_pred)"
   ]
  }
 ],
 "metadata": {
  "kernelspec": {
   "display_name": "Python 3",
   "language": "python",
   "name": "python3"
  },
  "language_info": {
   "codemirror_mode": {
    "name": "ipython",
    "version": 3
   },
   "file_extension": ".py",
   "mimetype": "text/x-python",
   "name": "python",
   "nbconvert_exporter": "python",
   "pygments_lexer": "ipython3",
   "version": "3.8.5"
  }
 },
 "nbformat": 4,
 "nbformat_minor": 4
}
