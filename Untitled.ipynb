{
 "cells": [
  {
   "cell_type": "code",
   "execution_count": 10,
   "metadata": {},
   "outputs": [],
   "source": [
    "import os\n",
    "import glob\n",
    "import numpy as np\n",
    "import cv2\n",
    "from PIL import Image as I\n",
    "import tensorflow as tf\n",
    "import pandas as pd\n"
   ]
  },
  {
   "cell_type": "code",
   "execution_count": 11,
   "metadata": {},
   "outputs": [],
   "source": [
    "PATH=\"C://Users//emili//Desktop//ProgettoML//immagini-2\""
   ]
  },
  {
   "cell_type": "code",
   "execution_count": 12,
   "metadata": {},
   "outputs": [],
   "source": [
    "from keras.preprocessing import image\n",
    "\n",
    "def loadD(PATH):\n",
    "    data=[]\n",
    "    fnames=glob.glob(PATH+'//*_*.jpg')\n",
    "    i,j=cv2.imread(fnames[0],cv2.IMREAD_GRAYSCALE).shape\n",
    "    target=[os.path.basename(t).split(\"_\")[0] for t in fnames]\n",
    "    for f in fnames:\n",
    "        img=cv2.imread(f,cv2.IMREAD_GRAYSCALE)\n",
    "        img = cv2.resize(img, (i, j))\n",
    "        data.append(img)\n",
    "    return np.array(data).reshape(len(data),i*j)/255,np.array(target).reshape(len(data)),i,j"
   ]
  },
  {
   "cell_type": "code",
   "execution_count": 13,
   "metadata": {},
   "outputs": [],
   "source": [
    "X,y,i,j=loadD(PATH)"
   ]
  },
  {
   "cell_type": "code",
   "execution_count": 14,
   "metadata": {},
   "outputs": [],
   "source": [
    "import pickle as pkl\n",
    "\n",
    "\n",
    "def saveM(model,fname):\n",
    "    fname=fname+'.model'\n",
    "    pkl.dump(model, open(fname, 'wb'))\n",
    "\n",
    "def loadM(fname):\n",
    "    return pkl.load(open(fname+'.model', 'rb'))\n",
    "\n",
    "def saveXy(X_train,y_train,X_test,y_test,fname):\n",
    "    with open(fname+'.pkl', 'wb') as f:\n",
    "        pkl.dump([X_train,y_train,X_test,y_test], f)\n",
    "\n",
    "def loadXy(fname):\n",
    "    with open(fname+'.pkl', 'rb') as f:\n",
    "        X_train,y_train,X_test,y_test = pkl.load(f)\n",
    "    return X_train,y_train,X_test,y_test\n",
    "\n",
    "def saveAcc10(fname):\n",
    "    df.to_pickle(fname+'.pkl')\n",
    "\n",
    "def loadAcc10(fname):\n",
    "    df = pd.read_pickle(fname+'.pkl')\n",
    "    "
   ]
  },
  {
   "cell_type": "code",
   "execution_count": 26,
   "metadata": {},
   "outputs": [],
   "source": [
    "from sklearn.model_selection import train_test_split\n",
    "from sklearn.model_selection import cross_val_score\n",
    "from collections import Counter\n",
    "from sklearn.linear_model import SGDClassifier,LogisticRegression\n",
    "from sklearn.naive_bayes import GaussianNB\n",
    "from sklearn.svm import SVC\n",
    "from sklearn.metrics import accuracy_score,f1_score,roc_auc_score,precision_score,recall_score\n",
    "from sklearn.utils.testing import ignore_warnings\n",
    "from sklearn.exceptions import ConvergenceWarning\n",
    "from sklearn.base import BaseEstimator, TransformerMixin\n",
    "from sklearn.ensemble import AdaBoostClassifier\n",
    "from sklearn.tree import DecisionTreeClassifier\n",
    "from sklearn.model_selection import KFold\n",
    "from sklearn.neighbors import KNeighborsClassifier\n",
    "from sklearn.model_selection import GridSearchCV\n",
    "from sklearn.preprocessing import LabelEncoder\n",
    "from tensorflow.keras.utils import to_categorical\n",
    "from tensorflow.keras.wrappers.scikit_learn import KerasClassifier\n",
    "from tensorflow import keras\n",
    "from tensorflow.keras import layers    \n",
    "import warnings\n",
    "warnings.simplefilter(action='ignore', category=FutureWarning)\n",
    "def compute_performance(estimators, X, y):\n",
    "    score_dict = {}\n",
    "    for e in estimators:\n",
    "        score_dict[e.__class__.__name__] = {}\n",
    "        score = cross_val_score(e, X ,y, cv=KFold(n_splits=10) ,scoring='accuracy',n_jobs=-1)\n",
    "        mean=score.mean()\n",
    "        std=score.std()\n",
    "        score_dict[e.__class__.__name__]['accuracy/std'] = (round(mean,2),round(std,2))\n",
    "    return score_dict\n",
    "\n",
    "def tuningKNN(X_train,y_train,knn):\n",
    "    model = KNeighborsClassifier(n_jobs=-1)\n",
    "    params = {'n_neighbors':[2,3,4,5,6,7,8],\n",
    "          'weights':['distance'],\n",
    "          'algorithm':['auto'],\n",
    "          'n_jobs':[-1]}\n",
    "    grid_search = GridSearchCV(knn, params,scoring='accuracy', return_train_score=True)\n",
    "    grid_search.fit(X_train, y_train)\n",
    "    print(\"Best Param:\", grid_search.best_params_)\n",
    "    best_KNN = grid_search.best_estimator_\n",
    "    return best_KNN\n",
    "\n",
    "def tuningSVC(X_train,y_train,svc):\n",
    "    param_svc_grid ={'kernel': ['poly', 'linear', 'rbf','sigmoid']},\n",
    "    grid_search = GridSearchCV(svc, param_svc_grid,scoring='accuracy',n_jobs=-1, return_train_score=True)\n",
    "    grid_search.fit(X_train, y_train)\n",
    "    print(\"Best Param:\", grid_search.best_params_)\n",
    "    best_svc = grid_search.best_estimator_\n",
    "    return best_svc\n",
    "\n",
    "\n",
    "class MyClassificatorTrain(BaseEstimator, TransformerMixin):\n",
    "    \n",
    "    def __init__(self):\n",
    "        pass\n",
    "    \n",
    "    def fit(self, X, y):\n",
    "        return self\n",
    "\n",
    "    def transform(self, X,y):\n",
    "        X_train, X_test, y_train, y_test =train_test_split(X, y,\n",
    "                                                        test_size=0.2,\n",
    "                                                         shuffle=True)\n",
    "        #print(\"Create models...\")\n",
    "        #print(\"AdaBoost...\")\n",
    "        #ada_clf=AdaBoostClassifier(DecisionTreeClassifier(max_depth=1),n_estimators=600, algorithm='SAMME.R',learning_rate=.5).fit(X_train,y_train)\n",
    "        #saveM(ada_clf,\"ada\")\n",
    "        #print(\"Tuning KNN...\")\n",
    "        #knn_clf=KNeighborsClassifier(n_neighbors=5, weights=\"distance\").fit(X_train,y_train)\n",
    "        #knn_best=knn_best.fit(X_train,y_train)\n",
    "        #saveM(knn_best,\"knn\")\n",
    "        print(\"Tuning SVC...\")\n",
    "        svc_clf=SVC(gamma='auto',degree=2).fit(X_train,y_train)\n",
    "        svc_best = tuningSVC(X_train,y_train,svc_clf)\n",
    "        saveM(svc_best,\"svc\")\n",
    "        saveXy(X_train, X_test, y_train, y_test,\"dataCl\")\n",
    "        print(\"All models Done!\")\n",
    "        "
   ]
  },
  {
   "cell_type": "code",
   "execution_count": 27,
   "metadata": {},
   "outputs": [
    {
     "name": "stdout",
     "output_type": "stream",
     "text": [
      "Tuning SVC...\n",
      "Best Param: {'kernel': 'linear'}\n",
      "All models Done!\n"
     ]
    }
   ],
   "source": [
    "MyClassificatorTrain().transform(X,y)\n"
   ]
  },
  {
   "cell_type": "code",
   "execution_count": 28,
   "metadata": {},
   "outputs": [
    {
     "data": {
      "text/html": [
       "<div>\n",
       "<style scoped>\n",
       "    .dataframe tbody tr th:only-of-type {\n",
       "        vertical-align: middle;\n",
       "    }\n",
       "\n",
       "    .dataframe tbody tr th {\n",
       "        vertical-align: top;\n",
       "    }\n",
       "\n",
       "    .dataframe thead th {\n",
       "        text-align: right;\n",
       "    }\n",
       "</style>\n",
       "<table border=\"1\" class=\"dataframe\">\n",
       "  <thead>\n",
       "    <tr style=\"text-align: right;\">\n",
       "      <th></th>\n",
       "      <th>AdaBoostClassifier</th>\n",
       "      <th>KNeighborsClassifier</th>\n",
       "      <th>SVC</th>\n",
       "    </tr>\n",
       "  </thead>\n",
       "  <tbody>\n",
       "    <tr>\n",
       "      <th>accuracy/std</th>\n",
       "      <td>(0.84, 0.26)</td>\n",
       "      <td>(0.88, 0.26)</td>\n",
       "      <td>(0.89, 0.26)</td>\n",
       "    </tr>\n",
       "  </tbody>\n",
       "</table>\n",
       "</div>"
      ],
      "text/plain": [
       "             AdaBoostClassifier KNeighborsClassifier           SVC\n",
       "accuracy/std       (0.84, 0.26)         (0.88, 0.26)  (0.89, 0.26)"
      ]
     },
     "execution_count": 28,
     "metadata": {},
     "output_type": "execute_result"
    }
   ],
   "source": [
    "ada_clf=AdaBoostClassifier(DecisionTreeClassifier(max_depth=1),n_estimators=600, algorithm='SAMME.R',learning_rate=.5)\n",
    "knn_clf=KNeighborsClassifier(n_neighbors=4, weights=\"distance\")\n",
    "svc_clf=SVC(kernel='poly',degree=2)\n",
    "score_dict=compute_performance([ada_clf,knn_clf,svc_clf], X, y)\n",
    "score_df = pd.DataFrame(score_dict)\n",
    "score_df.head()\n",
    "\n"
   ]
  },
  {
   "cell_type": "code",
   "execution_count": null,
   "metadata": {},
   "outputs": [],
   "source": [
    "from tensorflow.keras.wrappers.scikit_learn import KerasClassifier\n",
    "def create_network():\n",
    "    model_conv = keras.Sequential()\n",
    "    model_conv.add(layers.Conv2D(32, (15, 15), activation='relu', input_shape=(i, j, 1)))\n",
    "    model_conv.add(layers.MaxPooling2D((2, 2)))\n",
    "    model_conv.add(layers.Conv2D(64, (3, 3), activation='relu'))\n",
    "    model_conv.add(layers.MaxPooling2D((2, 2)))\n",
    "    model_conv.add(layers.Conv2D(64, (3, 3), activation='relu'))\n",
    "    model_conv.add(layers.Flatten())\n",
    "    model_conv.add(layers.Dense(4, activation='softmax'))\n",
    "    model_conv.compile(loss='sparse_categorical_crossentropy', optimizer='adam', metrics=['accuracy']);\n",
    "    return model_conv\n"
   ]
  },
  {
   "cell_type": "code",
   "execution_count": null,
   "metadata": {},
   "outputs": [],
   "source": [
    "def saveNN(model,fname):\n",
    "    json_model = model.model.to_json()\n",
    "    open('nn.json', 'w').write(json_model)\n",
    "    model.model.save_weights('nn.h5', overwrite=True)\n",
    "    return\n",
    "\n",
    "def loadNN(fname):\n",
    "    model = model_from_json(open(fname+'.json').read())\n",
    "    model.load_weights(fname+'.h5')\n",
    "    model.compile(loss='sparse_categorical_crossentropy', optimizer='adam', metrics=['accuracy'])"
   ]
  },
  {
   "cell_type": "code",
   "execution_count": null,
   "metadata": {},
   "outputs": [],
   "source": [
    "def preNN(X,y,i,j):\n",
    "    encoder = LabelEncoder()\n",
    "    encoder.fit(y)\n",
    "    y = encoder.transform(y)\n",
    "    y = to_categorical(y)    \n",
    "    y = np.argmax(y, axis=1)\n",
    "    X = X.reshape((len(X),i,j,1))\n",
    "    return X,y\n",
    "    \n",
    "import warnings\n",
    "warnings.simplefilter(action='ignore', category=FutureWarning)\n",
    "class MyClassificatorTrainNN(BaseEstimator, TransformerMixin):\n",
    "    \n",
    "    def __init__(self):\n",
    "        pass\n",
    "    \n",
    "    def fit(self, X, y):\n",
    "        return self\n",
    "\n",
    "    def transform(self, X,y,i,j):\n",
    "        print(\"Preprocessing for KNN...\")\n",
    "        X,y=preNN(X,y,i,j)\n",
    "        X_train, X_test, y_train, y_test =train_test_split(X, y,\n",
    "                                                        test_size=0.2,\n",
    "                                                          shuffle=True) \n",
    "        print(\"Tuning NN...\")\n",
    "        nn_clf = KerasClassifier(build_fn=create_network, epochs=5, verbose=0).fit(X_train,y_train)\n",
    "        saveNN(nn_clf,\"nn\")\n",
    "        saveXy(X_train, X_test, y_train, y_test,\"dataNN\")\n",
    "        print(\"Done!\")"
   ]
  },
  {
   "cell_type": "code",
   "execution_count": null,
   "metadata": {},
   "outputs": [],
   "source": [
    "MyClassificatorTrainNN().transform(X,y,i,j)"
   ]
  },
  {
   "cell_type": "code",
   "execution_count": null,
   "metadata": {},
   "outputs": [],
   "source": [
    "X1,y1=preNN(X,y,i,j)\n",
    "nn_clf=loadNN(\"nn\")\n",
    "score_dict2=compute_performance([nn_clf], X1, y1)\n",
    "score_df2 = pd.DataFrame(score_dict2)\n",
    "score_df2.head()"
   ]
  },
  {
   "cell_type": "code",
   "execution_count": null,
   "metadata": {},
   "outputs": [],
   "source": []
  }
 ],
 "metadata": {
  "kernelspec": {
   "display_name": "Python 3",
   "language": "python",
   "name": "python3"
  },
  "language_info": {
   "codemirror_mode": {
    "name": "ipython",
    "version": 3
   },
   "file_extension": ".py",
   "mimetype": "text/x-python",
   "name": "python",
   "nbconvert_exporter": "python",
   "pygments_lexer": "ipython3",
   "version": "3.8.5"
  }
 },
 "nbformat": 4,
 "nbformat_minor": 4
}
