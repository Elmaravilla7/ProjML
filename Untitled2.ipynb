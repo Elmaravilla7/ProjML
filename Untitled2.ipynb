{
 "cells": [
  {
   "cell_type": "code",
   "execution_count": 1,
   "metadata": {},
   "outputs": [],
   "source": [
    "import os\n",
    "import glob\n",
    "import numpy as np\n",
    "import pandas as pd\n",
    "import multiprocessing\n",
    "import random\n",
    "from sklearn.model_selection import train_test_split\n",
    "from sklearn.model_selection import cross_val_score\n",
    "from collections import Counter\n",
    "from sklearn.linear_model import SGDClassifier,LogisticRegression\n",
    "from sklearn.naive_bayes import GaussianNB\n",
    "from sklearn.svm import SVC\n",
    "from sklearn.metrics import accuracy_score,f1_score,roc_auc_score,precision_score,recall_score\n",
    "from sklearn.base import BaseEstimator, TransformerMixin\n",
    "from sklearn.ensemble import AdaBoostClassifier\n",
    "from sklearn.tree import DecisionTreeClassifier\n",
    "from sklearn.model_selection import KFold\n",
    "from sklearn.neighbors import KNeighborsClassifier\n",
    "from sklearn.model_selection import GridSearchCV\n",
    "from sklearn.preprocessing import LabelEncoder\n",
    "from tensorflow.keras.utils import to_categorical\n",
    "from tensorflow.keras.wrappers.scikit_learn import KerasClassifier\n",
    "from tensorflow import keras\n",
    "from tensorflow.keras import layers  \n",
    "from tensorflow.keras.wrappers.scikit_learn import KerasClassifier\n",
    "import matplotlib.pyplot as plt\n",
    "from tensorflow.keras.models import Sequential\n",
    "import seaborn as sns\n",
    "from sklearn.metrics import confusion_matrix,classification_report\n",
    "import pickle as pkl\n",
    "import warnings\n",
    "from tensorflow.keras.models import model_from_json\n",
    "from tensorflow.keras.layers import Dense, Activation,Conv2D,MaxPooling2D,Flatten,Dropout\n",
    "from sklearn.preprocessing import MinMaxScaler\n",
    "from sklearn import metrics\n",
    "import matplotlib\n",
    "from sklearn.decomposition import PCA\n",
    "import re\n",
    "import string\n",
    "import nltk\n",
    "from nltk.corpus import stopwords\n",
    "import gensim\n",
    "from sklearn.base import BaseEstimator, TransformerMixin\n",
    "from sklearn.feature_extraction.text import CountVectorizer\n",
    "from sklearn.ensemble import RandomForestClassifier\n",
    "from sklearn.preprocessing import LabelEncoder\n",
    "from sklearn.preprocessing import OneHotEncoder\n",
    "\n",
    "cores = multiprocessing.cpu_count()"
   ]
  },
  {
   "cell_type": "code",
   "execution_count": 2,
   "metadata": {},
   "outputs": [],
   "source": [
    "PATH1=\"C://Users//emiliocasella//Desktop//ProgettoML//testi-2//ham//\"\n",
    "PATH2=\"C://Users//emiliocasella//Desktop//ProgettoML//testi-2//spam//\""
   ]
  },
  {
   "cell_type": "code",
   "execution_count": 3,
   "metadata": {},
   "outputs": [],
   "source": [
    "def readFile(file):\n",
    "    f = open(file, encoding=\"latin-1\")\n",
    "    return f.read()\n",
    "\n",
    "def loadD(PATH1,PATH2):\n",
    "    target=[]\n",
    "    data=[]\n",
    "    fnames1=glob.glob(PATH1+'*.txt')\n",
    "    fnames2=glob.glob(PATH2+'*.txt')\n",
    "    for f1 in fnames1:\n",
    "        data.append(readFile(f1))\n",
    "        target.append(0)#ham\n",
    "    for f2 in fnames2:\n",
    "        data.append(readFile(f2))\n",
    "        target.append(1)#spam\n",
    "    \n",
    "    return pd.DataFrame(list(zip(data, target)), \n",
    "                        columns =['text', 'target']).sample(frac=1).reset_index(drop=True)\n",
    "    "
   ]
  },
  {
   "cell_type": "code",
   "execution_count": 4,
   "metadata": {},
   "outputs": [
    {
     "data": {
      "text/html": [
       "<div>\n",
       "<style scoped>\n",
       "    .dataframe tbody tr th:only-of-type {\n",
       "        vertical-align: middle;\n",
       "    }\n",
       "\n",
       "    .dataframe tbody tr th {\n",
       "        vertical-align: top;\n",
       "    }\n",
       "\n",
       "    .dataframe thead th {\n",
       "        text-align: right;\n",
       "    }\n",
       "</style>\n",
       "<table border=\"1\" class=\"dataframe\">\n",
       "  <thead>\n",
       "    <tr style=\"text-align: right;\">\n",
       "      <th></th>\n",
       "      <th>text</th>\n",
       "      <th>target</th>\n",
       "    </tr>\n",
       "  </thead>\n",
       "  <tbody>\n",
       "    <tr>\n",
       "      <th>0</th>\n",
       "      <td>Subject: business review meeting - global data...</td>\n",
       "      <td>0</td>\n",
       "    </tr>\n",
       "    <tr>\n",
       "      <th>1</th>\n",
       "      <td>Subject: consulting project\\ndear vince :\\ni h...</td>\n",
       "      <td>0</td>\n",
       "    </tr>\n",
       "    <tr>\n",
       "      <th>2</th>\n",
       "      <td>Subject: highest concentration of pure human p...</td>\n",
       "      <td>1</td>\n",
       "    </tr>\n",
       "    <tr>\n",
       "      <th>3</th>\n",
       "      <td>Subject: six , sexy , slimming flavors . tgdyu...</td>\n",
       "      <td>1</td>\n",
       "    </tr>\n",
       "    <tr>\n",
       "      <th>4</th>\n",
       "      <td>Subject: search engine position\\nbe the very f...</td>\n",
       "      <td>1</td>\n",
       "    </tr>\n",
       "  </tbody>\n",
       "</table>\n",
       "</div>"
      ],
      "text/plain": [
       "                                                text  target\n",
       "0  Subject: business review meeting - global data...       0\n",
       "1  Subject: consulting project\\ndear vince :\\ni h...       0\n",
       "2  Subject: highest concentration of pure human p...       1\n",
       "3  Subject: six , sexy , slimming flavors . tgdyu...       1\n",
       "4  Subject: search engine position\\nbe the very f...       1"
      ]
     },
     "execution_count": 4,
     "metadata": {},
     "output_type": "execute_result"
    }
   ],
   "source": [
    "df=loadD(PATH1,PATH2)\n",
    "df.head()"
   ]
  },
  {
   "cell_type": "code",
   "execution_count": 5,
   "metadata": {},
   "outputs": [],
   "source": [
    "def prep_text(text):\n",
    "        text = text.lower()\n",
    "        text = re.sub('\\[.*?\\]', '', text)\n",
    "        text = re.sub('https?://\\S+|www\\.\\S+', '', text)\n",
    "        text = re.sub('<.*?>+', '', text)\n",
    "        text = re.sub('[%s]' % re.escape(string.punctuation), '', text)\n",
    "        text = re.sub('\\n', '', text)\n",
    "        text = re.sub('\\w*\\d\\w*', '', text)\n",
    "        tokenizer = nltk.tokenize.RegexpTokenizer(r'\\w+')\n",
    "        text=tokenizer.tokenize(text)\n",
    "        stop_words = stopwords.words('english')\n",
    "        text=remove_stopwords(text,stop_words)\n",
    "        return text\n",
    "    \n",
    "def remove_stopwords(text,stop_words):\n",
    "    words = [w for w in text if w not in stop_words]\n",
    "    return words\n",
    "\n",
    "class MyTokenizer(BaseEstimator, TransformerMixin):\n",
    "    def __init__(self):\n",
    "        pass\n",
    "    \n",
    "    def fit(self, X, y):\n",
    "        return self\n",
    "    \n",
    "    def transform(self, X,y):\n",
    "        for c in y:\n",
    "            for i in range(0,len(X[c])):\n",
    "                X.at[i,c] =prep_text(X[c][i])"
   ]
  },
  {
   "cell_type": "code",
   "execution_count": 6,
   "metadata": {},
   "outputs": [
    {
     "data": {
      "text/html": [
       "<div>\n",
       "<style scoped>\n",
       "    .dataframe tbody tr th:only-of-type {\n",
       "        vertical-align: middle;\n",
       "    }\n",
       "\n",
       "    .dataframe tbody tr th {\n",
       "        vertical-align: top;\n",
       "    }\n",
       "\n",
       "    .dataframe thead th {\n",
       "        text-align: right;\n",
       "    }\n",
       "</style>\n",
       "<table border=\"1\" class=\"dataframe\">\n",
       "  <thead>\n",
       "    <tr style=\"text-align: right;\">\n",
       "      <th></th>\n",
       "      <th>text</th>\n",
       "      <th>target</th>\n",
       "    </tr>\n",
       "  </thead>\n",
       "  <tbody>\n",
       "    <tr>\n",
       "      <th>0</th>\n",
       "      <td>[subject, business, review, meeting, global, d...</td>\n",
       "      <td>0</td>\n",
       "    </tr>\n",
       "    <tr>\n",
       "      <th>1</th>\n",
       "      <td>[subject, consulting, projectdear, vince, spen...</td>\n",
       "      <td>0</td>\n",
       "    </tr>\n",
       "    <tr>\n",
       "      <th>2</th>\n",
       "      <td>[subject, highest, concentration, pure, human,...</td>\n",
       "      <td>1</td>\n",
       "    </tr>\n",
       "    <tr>\n",
       "      <th>3</th>\n",
       "      <td>[subject, six, sexy, slimming, flavors, tgdyug...</td>\n",
       "      <td>1</td>\n",
       "    </tr>\n",
       "    <tr>\n",
       "      <th>4</th>\n",
       "      <td>[subject, search, engine, positionbe, first, l...</td>\n",
       "      <td>1</td>\n",
       "    </tr>\n",
       "  </tbody>\n",
       "</table>\n",
       "</div>"
      ],
      "text/plain": [
       "                                                text  target\n",
       "0  [subject, business, review, meeting, global, d...       0\n",
       "1  [subject, consulting, projectdear, vince, spen...       0\n",
       "2  [subject, highest, concentration, pure, human,...       1\n",
       "3  [subject, six, sexy, slimming, flavors, tgdyug...       1\n",
       "4  [subject, search, engine, positionbe, first, l...       1"
      ]
     },
     "execution_count": 6,
     "metadata": {},
     "output_type": "execute_result"
    }
   ],
   "source": [
    "MyTokenizer().transform(df,['text'])\n",
    "df.head()"
   ]
  },
  {
   "cell_type": "code",
   "execution_count": 7,
   "metadata": {},
   "outputs": [],
   "source": [
    "def contaP(tab,numW):\n",
    "    words_freq={}\n",
    "    data=[]\n",
    "    frauTot = df[df['target'] == tab]\n",
    "    text=frauTot['text']\n",
    "    for i in text:\n",
    "        for word in i:\n",
    "            data.append(word)\n",
    "    for key in data:\n",
    "        if key not in words_freq:\n",
    "            words_freq[key]=1\n",
    "        else:\n",
    "            words_freq[key]+=1\n",
    "    sort=sorted(words_freq.items(), key=lambda x: x[1], reverse=True)\n",
    "    return sort[:numW]"
   ]
  },
  {
   "cell_type": "code",
   "execution_count": 8,
   "metadata": {},
   "outputs": [
    {
     "data": {
      "image/png": "[encoded data removed]",
      "text/plain": [
       "<Figure size 1440x576 with 1 Axes>"
      ]
     },
     "metadata": {
      "needs_background": "light"
     },
     "output_type": "display_data"
    }
   ],
   "source": [
    "hamFreq=contaP(0,25)\n",
    "plt.figure(1,figsize=(20,8))\n",
    "plt.xticks(rotation='90')\n",
    "x,y=map(list,zip(*hamFreq))\n",
    "sns.barplot(x=y,y=x,color='blue')\n",
    "plt.title('Top 25 words in ham table')\n",
    "plt.show()"
   ]
  },
  {
   "cell_type": "code",
   "execution_count": 9,
   "metadata": {},
   "outputs": [
    {
     "data": {
      "image/png": "[encoded data removed]",
      "text/plain": [
       "<Figure size 1440x576 with 1 Axes>"
      ]
     },
     "metadata": {
      "needs_background": "light"
     },
     "output_type": "display_data"
    }
   ],
   "source": [
    "spamFreq=contaP(1,25)\n",
    "plt.figure(1,figsize=(20,8))\n",
    "plt.xticks(rotation='90')\n",
    "x,y=map(list,zip(*spamFreq))\n",
    "sns.barplot(x=y,y=x,color='red')\n",
    "plt.title('Top 25 words in spam table')\n",
    "plt.show()"
   ]
  },
  {
   "cell_type": "code",
   "execution_count": 10,
   "metadata": {},
   "outputs": [],
   "source": [
    "def cleanV(elements):\n",
    "    modificata = np.zeros(308)\n",
    "    for e in elements:\n",
    "        modificata = np.vstack((modificata, e))\n",
    "    return modificata[1:]\n",
    "\n",
    "def createIndex(numWords):\n",
    "    indexWords={}\n",
    "    words=[]\n",
    "    topWHam=contaP(0,numWords)\n",
    "    topWSpam=contaP(1,numWords)\n",
    "    for i in range(len(topWHam)):\n",
    "        words.append(topWHam[i][0])\n",
    "    for i in range(len(topWSpam)):\n",
    "        words.append(topWSpam[i][0])\n",
    "    i=0\n",
    "    for word in words:\n",
    "        if word not in indexWords:\n",
    "            indexWords[word]=i\n",
    "            i=i+1\n",
    "    return indexWords\n",
    "\n",
    "def createEmbeddings(text,indexWords):\n",
    "    vector=np.zeros(len(indexWords),dtype=int)\n",
    "    for word in text:\n",
    "        if word in indexWords:\n",
    "            i=indexWords[word]\n",
    "            if(vector[i]==0):\n",
    "                vector[i]=1\n",
    "            else:\n",
    "                vector[i]=vector[i]+1\n",
    "    return vector\n",
    "\n",
    "class MyEmbeddings(BaseEstimator, TransformerMixin):\n",
    "    def __init__(self):\n",
    "        pass\n",
    "    \n",
    "    def fit(self, X, y):\n",
    "        return self\n",
    "    \n",
    "    def transform(self, X,y):\n",
    "        index=createIndex(200)\n",
    "        for c in y:\n",
    "            for i in range(0,len(X[c])):\n",
    "                X.at[i,c] =createEmbeddings(X[c][i],index)"
   ]
  },
  {
   "cell_type": "code",
   "execution_count": 11,
   "metadata": {},
   "outputs": [
    {
     "data": {
      "text/html": [
       "<div>\n",
       "<style scoped>\n",
       "    .dataframe tbody tr th:only-of-type {\n",
       "        vertical-align: middle;\n",
       "    }\n",
       "\n",
       "    .dataframe tbody tr th {\n",
       "        vertical-align: top;\n",
       "    }\n",
       "\n",
       "    .dataframe thead th {\n",
       "        text-align: right;\n",
       "    }\n",
       "</style>\n",
       "<table border=\"1\" class=\"dataframe\">\n",
       "  <thead>\n",
       "    <tr style=\"text-align: right;\">\n",
       "      <th></th>\n",
       "      <th>text</th>\n",
       "      <th>target</th>\n",
       "    </tr>\n",
       "  </thead>\n",
       "  <tbody>\n",
       "    <tr>\n",
       "      <th>0</th>\n",
       "      <td>[0, 0, 1, 0, 1, 0, 0, 0, 0, 0, 0, 0, 0, 0, 0, ...</td>\n",
       "      <td>0</td>\n",
       "    </tr>\n",
       "    <tr>\n",
       "      <th>1</th>\n",
       "      <td>[0, 0, 1, 0, 1, 0, 0, 0, 0, 0, 0, 0, 0, 0, 0, ...</td>\n",
       "      <td>0</td>\n",
       "    </tr>\n",
       "    <tr>\n",
       "      <th>2</th>\n",
       "      <td>[0, 0, 1, 0, 0, 0, 1, 0, 0, 0, 0, 0, 0, 0, 0, ...</td>\n",
       "      <td>1</td>\n",
       "    </tr>\n",
       "    <tr>\n",
       "      <th>3</th>\n",
       "      <td>[0, 0, 1, 0, 0, 0, 0, 0, 0, 0, 0, 0, 0, 0, 0, ...</td>\n",
       "      <td>1</td>\n",
       "    </tr>\n",
       "    <tr>\n",
       "      <th>4</th>\n",
       "      <td>[0, 0, 2, 0, 0, 1, 2, 0, 0, 0, 1, 0, 0, 0, 0, ...</td>\n",
       "      <td>1</td>\n",
       "    </tr>\n",
       "  </tbody>\n",
       "</table>\n",
       "</div>"
      ],
      "text/plain": [
       "                                                text  target\n",
       "0  [0, 0, 1, 0, 1, 0, 0, 0, 0, 0, 0, 0, 0, 0, 0, ...       0\n",
       "1  [0, 0, 1, 0, 1, 0, 0, 0, 0, 0, 0, 0, 0, 0, 0, ...       0\n",
       "2  [0, 0, 1, 0, 0, 0, 1, 0, 0, 0, 0, 0, 0, 0, 0, ...       1\n",
       "3  [0, 0, 1, 0, 0, 0, 0, 0, 0, 0, 0, 0, 0, 0, 0, ...       1\n",
       "4  [0, 0, 2, 0, 0, 1, 2, 0, 0, 0, 1, 0, 0, 0, 0, ...       1"
      ]
     },
     "execution_count": 11,
     "metadata": {},
     "output_type": "execute_result"
    }
   ],
   "source": [
    "MyEmbeddings().transform(df,['text'])\n",
    "df.head()"
   ]
  },
  {
   "cell_type": "code",
   "execution_count": 12,
   "metadata": {},
   "outputs": [],
   "source": [
    "def saveM(model,fname):\n",
    "    fname=fname+'.model'\n",
    "    pkl.dump(model, open(fname, 'wb'))\n",
    "\n",
    "def loadM(fname):\n",
    "    return pkl.load(open(fname+'.model', 'rb'))\n",
    "\n",
    "def saveNN(model,fname):\n",
    "    json_model = model.model.to_json()\n",
    "    open('nn.json', 'w').write(json_model)\n",
    "    model.model.save_weights('nn.h5', overwrite=True)\n",
    "\n",
    "def loadNN(fname):\n",
    "    model = model_from_json(open(fname+'.json').read())\n",
    "    model.load_weights(fname+'.h5')\n",
    "    model.compile(loss='sparse_categorical_crossentropy', optimizer='adam', metrics=['accuracy'])\n",
    "    return model\n",
    "\n",
    "def loadDataFrame():\n",
    "    return pd.read_csv(\"C://Users//emiliocasella//Desktop//ProgettoML//DataFrame.csv\")\n",
    "\n",
    "    \n",
    "def saveDataFrame(tab):\n",
    "    tab.to_csv(\"C://Users//emiliocasella//Desktop//ProgettoML//DataFrame.csv\",index=False)"
   ]
  },
  {
   "cell_type": "code",
   "execution_count": 13,
   "metadata": {},
   "outputs": [],
   "source": [
    "saveDataFrame(df)"
   ]
  },
  {
   "cell_type": "code",
   "execution_count": 14,
   "metadata": {},
   "outputs": [],
   "source": [
    "X=cleanV(df['text'].to_numpy())\n",
    "y=df.target.to_numpy()\n",
    "np.save(\"C://Users//emiliocasella//Desktop//ProgettoML//list1\",X)\n",
    "np.save(\"C://Users//emiliocasella//Desktop//ProgettoML//list2\",y)"
   ]
  },
  {
   "cell_type": "code",
   "execution_count": 24,
   "metadata": {},
   "outputs": [],
   "source": [
    "def create_network():\n",
    "    model = keras.Sequential()\n",
    "    model.add(keras.layers.Dense(64, activation='relu',input_dim=308))\n",
    "    model.add(keras.layers.Dense(32, activation='relu'))\n",
    "    model.add(keras.layers.Dense(1, activation='sigmoid'))\n",
    "    model.compile(optimizer='adam',\n",
    "              loss='binary_crossentropy',\n",
    "              metrics=['accuracy'])\n",
    "    return model\n",
    "\n",
    "def preNN(X,y):\n",
    "    encoder = LabelEncoder()\n",
    "    encoder.fit(y)\n",
    "    y = encoder.transform(y)\n",
    "    y = to_categorical(y)    \n",
    "    y = np.argmax(y, axis=1)\n",
    "    X = X.reshape((len(X),len(X[0]),1))\n",
    "    return X,y\n",
    "\n",
    "class MyClassificatorTrainNN(BaseEstimator, TransformerMixin):\n",
    "    \n",
    "    def __init__(self):\n",
    "        pass\n",
    "    \n",
    "    def fit(self, X, y):\n",
    "        return self\n",
    "\n",
    "    def transform(self, X,y):\n",
    "        print(\"Preprocessing for NN...\")\n",
    "        #X,y=preNN(X,y)\n",
    "        X_train, X_test, y_train, y_test =train_test_split(X, y,\n",
    "                                                        test_size=0.2,shuffle=True) \n",
    "        print(\"Tuning NN...\")\n",
    "        nn_clf = KerasClassifier(build_fn=create_network, epochs=5, verbose=0)\n",
    "        nn_clf.fit(X_train,y_train)\n",
    "        saveNN(nn_clf,\"nn\")"
   ]
  },
  {
   "cell_type": "code",
   "execution_count": 25,
   "metadata": {},
   "outputs": [],
   "source": [
    "def compute_performance(estimators, X, y):\n",
    "    score_dict = {}\n",
    "    for e in estimators:\n",
    "        score_dict[e.__class__.__name__] = {}\n",
    "        cv = KFold(n_splits=10, random_state=1, shuffle=True)\n",
    "        score = cross_val_score(e, X ,y, cv=cv ,scoring='accuracy',n_jobs=-1)\n",
    "        score_dict[e.__class__.__name__]['accuracy/std'] = (np.round(np.mean(score),3),np.round(np.std(score),3))\n",
    "    return score_dict\n",
    "\n",
    "\n",
    "def tuningLR(X_train,y_train,logreg):\n",
    "    param_logreg_grid = [\n",
    "    {'penalty': ['l2'], 'solver': ['newton-cg', 'sag','lbfgs']},\n",
    "    ]\n",
    "    grid_search = GridSearchCV(logreg, param_logreg_grid, cv=10,\n",
    "                           scoring='accuracy', return_train_score=True)\n",
    "    grid_search.fit(X_train, y_train)\n",
    "    print(\"Best Param:\", grid_search.best_params_)\n",
    "    best_logreg = grid_search.best_estimator_\n",
    "    return best_logreg\n",
    "\n",
    "\n",
    "def tuningSGD(X_train,y_train,sgd):\n",
    "    param_sgd_grid = [\n",
    "    {'penalty': ['l2'], 'loss': ['hinge','log', 'squared_hinge', 'perceptron']},\n",
    "    ]\n",
    "    grid_search = GridSearchCV(sgd, param_sgd_grid, cv=10,\n",
    "                           scoring='accuracy', return_train_score=True)\n",
    "    grid_search.fit(X_train, y_train)\n",
    "    print(\"Best Param:\", grid_search.best_params_)\n",
    "    best_sgd = grid_search.best_estimator_\n",
    "    return best_sgd\n",
    "\n",
    "\n",
    "\n",
    "def tuningKNN(X_train,y_train,knn):\n",
    "    model = KNeighborsClassifier(n_jobs=-1)\n",
    "    params = {'n_neighbors':[4,5,6,7,8],\n",
    "          'weights':['distance'],\n",
    "          'algorithm':['auto']\n",
    "             }\n",
    "    grid_search = GridSearchCV(knn, params,scoring='accuracy',n_jobs=-1, cv=10)\n",
    "    grid_search.fit(X_train, y_train)\n",
    "    print(\"Best Param:\", grid_search.best_params_)\n",
    "    best_KNN = grid_search.best_estimator_\n",
    "    return best_KNN\n",
    "\n",
    "def tuningSVC(X_train,y_train,svc):\n",
    "    param_svc_grid ={'kernel': ['poly', 'linear', 'rbf','sigmoid'],\n",
    "                      'degree':[2]},\n",
    "    grid_search = GridSearchCV(svc, param_svc_grid,scoring='accuracy',n_jobs=-1, cv=10)\n",
    "    grid_search.fit(X_train, y_train)\n",
    "    print(\"Best Param:\", grid_search.best_params_)\n",
    "    best_svc = grid_search.best_estimator_\n",
    "    return best_svc\n",
    "\n",
    "\n",
    "\n",
    "\n",
    "class MyClassificatorTrain(BaseEstimator, TransformerMixin):\n",
    "    \n",
    "    def __init__(self):\n",
    "        pass\n",
    "    \n",
    "    def fit(self, X, y):\n",
    "        return self\n",
    "\n",
    "    def transform(self, X,y):\n",
    "        X_train, X_test, y_train, y_test =train_test_split(X, y,\n",
    "                                                     test_size=0.2,shuffle=True)\n",
    "        '''\n",
    "        print(\"Tuning Logistic Regression...\")\n",
    "        logreg_clf = LogisticRegression(max_iter=1000)\n",
    "        logreg_clf.fit(X_train,y_train)\n",
    "        logreg_best=tuningLR(X_train,y_train,logreg_clf)\n",
    "        saveM(logreg_best,\"logreg\")\n",
    "        print(\"Tuning Stochastic Gradient Descent...\")\n",
    "        sgd_clf = SGDClassifier(max_iter=5, tol=-np.infty, random_state=42)\n",
    "        sgd_clf.fit(X_train,y_train)\n",
    "        sgd_best=tuningSGD(X_train,y_train,sgd_clf)\n",
    "        saveM(sgd_best,\"sgd\")\n",
    "        print(\"Gaussian...\")\n",
    "        nb_clf = GaussianNB()\n",
    "        nb_clf.fit(X_train,y_train)\n",
    "        saveM(nb_clf,\"nb\")\n",
    "        print(\"AdaBoost...\")\n",
    "        ada_clf=AdaBoostClassifier(DecisionTreeClassifier(max_depth=1),n_estimators=600, algorithm='SAMME.R',learning_rate=.5).fit(X_train,y_train)\n",
    "        saveM(ada_clf,\"ada\")\n",
    "        print(\"Tuning KNN...\")\n",
    "        knn_clf=KNeighborsClassifier(weights=\"distance\")\n",
    "        knn_clf.fit(X_train, y_train)\n",
    "        knn_best=tuningKNN(X_train,y_train,knn_clf)\n",
    "        saveM(knn_best,\"knn\")\n",
    "        print(\"Tuning SVC...\")\n",
    "        svc_clf=SVC(gamma='auto')\n",
    "        svc_clf.fit(X_train, y_train)\n",
    "        svc_best = tuningSVC(X_train,y_train,svc_clf)\n",
    "        saveM(svc_best,\"svc\")\n",
    "        '''\n",
    "        MyClassificatorTrainNN().transform(X,y)\n",
    "        print(\"All models Done!\")\n",
    "        "
   ]
  },
  {
   "cell_type": "code",
   "execution_count": 26,
   "metadata": {},
   "outputs": [
    {
     "name": "stdout",
     "output_type": "stream",
     "text": [
      "Preprocessing for NN...\n",
      "Tuning NN...\n",
      "All models Done!\n"
     ]
    }
   ],
   "source": [
    "MyClassificatorTrain().transform(X,y)"
   ]
  },
  {
   "cell_type": "code",
   "execution_count": 27,
   "metadata": {},
   "outputs": [
    {
     "data": {
      "text/html": [
       "<div>\n",
       "<style scoped>\n",
       "    .dataframe tbody tr th:only-of-type {\n",
       "        vertical-align: middle;\n",
       "    }\n",
       "\n",
       "    .dataframe tbody tr th {\n",
       "        vertical-align: top;\n",
       "    }\n",
       "\n",
       "    .dataframe thead th {\n",
       "        text-align: right;\n",
       "    }\n",
       "</style>\n",
       "<table border=\"1\" class=\"dataframe\">\n",
       "  <thead>\n",
       "    <tr style=\"text-align: right;\">\n",
       "      <th></th>\n",
       "      <th>LogisticRegression</th>\n",
       "      <th>SGDClassifier</th>\n",
       "      <th>GaussianNB</th>\n",
       "      <th>AdaBoostClassifier</th>\n",
       "      <th>KNeighborsClassifier</th>\n",
       "      <th>SVC</th>\n",
       "      <th>KerasClassifier</th>\n",
       "    </tr>\n",
       "  </thead>\n",
       "  <tbody>\n",
       "    <tr>\n",
       "      <th>accuracy/std</th>\n",
       "      <td>(0.956, 0.005)</td>\n",
       "      <td>(0.929, 0.022)</td>\n",
       "      <td>(0.85, 0.005)</td>\n",
       "      <td>(0.958, 0.003)</td>\n",
       "      <td>(0.933, 0.006)</td>\n",
       "      <td>(0.955, 0.004)</td>\n",
       "      <td>(0.967, 0.003)</td>\n",
       "    </tr>\n",
       "  </tbody>\n",
       "</table>\n",
       "</div>"
      ],
      "text/plain": [
       "             LogisticRegression   SGDClassifier     GaussianNB  \\\n",
       "accuracy/std     (0.956, 0.005)  (0.929, 0.022)  (0.85, 0.005)   \n",
       "\n",
       "             AdaBoostClassifier KNeighborsClassifier             SVC  \\\n",
       "accuracy/std     (0.958, 0.003)       (0.933, 0.006)  (0.955, 0.004)   \n",
       "\n",
       "             KerasClassifier  \n",
       "accuracy/std  (0.967, 0.003)  "
      ]
     },
     "execution_count": 27,
     "metadata": {},
     "output_type": "execute_result"
    }
   ],
   "source": [
    "logreg_clf=LogisticRegression(penalty='l2', solver='newton-cg', max_iter=1000)\n",
    "sgd_clf=SGDClassifier(loss=\"hinge\", penalty=\"l2\", max_iter=5, tol=-np.infty, random_state=42)\n",
    "nb_clf=GaussianNB()\n",
    "ada_clf=AdaBoostClassifier(DecisionTreeClassifier(max_depth=1),n_estimators=600, algorithm='SAMME.R',learning_rate=.5)\n",
    "knn_clf=KNeighborsClassifier(n_neighbors=4,algorithm='auto',weights=\"distance\")\n",
    "svc_clf=SVC(kernel='linear',degree=2)\n",
    "nn_clf = KerasClassifier(build_fn=create_network, epochs=5, verbose=0)\n",
    "score_dict=compute_performance([logreg_clf,sgd_clf,nb_clf,ada_clf,knn_clf,svc_clf,nn_clf], X, y)\n",
    "score_df = pd.DataFrame(score_dict)\n",
    "score_df.to_csv(\"C://Users//emiliocasella//Desktop//ProgettoML//10fold.csv\")\n",
    "score_df.head()"
   ]
  },
  {
   "cell_type": "code",
   "execution_count": 28,
   "metadata": {},
   "outputs": [],
   "source": [
    "def confusionMat(clf,X_test,y_test,type):\n",
    "    if(type==0):\n",
    "        pred = clf.predict(X_test)\n",
    "    else:\n",
    "        pred = clf.predict_classes(X_test)\n",
    "    score=accuracy_score(y_test, pred)\n",
    "    ax =sns.heatmap(confusion_matrix(y_test, pred), annot=True, fmt='.1f', cmap=sns.color_palette(\"Reds\", 25))\n",
    "    bottom, top = ax.get_ylim()\n",
    "    ax.set_ylim(bottom + 0.5, top - 0.5)\n",
    "    plt.savefig(clf.__class__.__name__+'.png') \n",
    "    plt.show()\n",
    "    print(classification_report(y_test, pred)) \n"
   ]
  },
  {
   "cell_type": "code",
   "execution_count": 29,
   "metadata": {},
   "outputs": [],
   "source": [
    "X_train, X_test, y_train, y_test =train_test_split(X, y,test_size=0.2)\n",
    "logreg_clf_t=loadM(\"logreg\")\n",
    "sgd_clf_t=loadM(\"sgd\")\n",
    "nb_clf_t=loadM(\"nb\")\n",
    "ada_clf_t=loadM(\"ada\")\n",
    "knn_clf_t=loadM(\"knn\")\n",
    "svc_clf_t=loadM(\"svc\")\n",
    "rnd_clf_t=loadM(\"rnd\")\n",
    "nn_clf_t=loadNN(\"nn\")"
   ]
  },
  {
   "cell_type": "code",
   "execution_count": 30,
   "metadata": {},
   "outputs": [
    {
     "data": {
      "image/png": "[encoded data removed]",
      "text/plain": [
       "<Figure size 432x288 with 2 Axes>"
      ]
     },
     "metadata": {
      "needs_background": "light"
     },
     "output_type": "display_data"
    },
    {
     "name": "stdout",
     "output_type": "stream",
     "text": [
      "              precision    recall  f1-score   support\n",
      "\n",
      "           0       0.98      0.93      0.96      3130\n",
      "           1       0.94      0.98      0.96      3211\n",
      "\n",
      "    accuracy                           0.96      6341\n",
      "   macro avg       0.96      0.96      0.96      6341\n",
      "weighted avg       0.96      0.96      0.96      6341\n",
      "\n"
     ]
    }
   ],
   "source": [
    "confusionMat(logreg_clf_t,X_test,y_test,0)"
   ]
  },
  {
   "cell_type": "code",
   "execution_count": 31,
   "metadata": {},
   "outputs": [
    {
     "data": {
      "image/png": "[encoded data removed]",
      "text/plain": [
       "<Figure size 432x288 with 2 Axes>"
      ]
     },
     "metadata": {
      "needs_background": "light"
     },
     "output_type": "display_data"
    },
    {
     "name": "stdout",
     "output_type": "stream",
     "text": [
      "              precision    recall  f1-score   support\n",
      "\n",
      "           0       0.97      0.93      0.95      3130\n",
      "           1       0.94      0.98      0.96      3211\n",
      "\n",
      "    accuracy                           0.96      6341\n",
      "   macro avg       0.96      0.96      0.96      6341\n",
      "weighted avg       0.96      0.96      0.96      6341\n",
      "\n"
     ]
    }
   ],
   "source": [
    "confusionMat(sgd_clf_t,X_test,y_test,0)"
   ]
  },
  {
   "cell_type": "code",
   "execution_count": 32,
   "metadata": {},
   "outputs": [
    {
     "data": {
      "image/png": "[encoded data removed]",
      "text/plain": [
       "<Figure size 432x288 with 2 Axes>"
      ]
     },
     "metadata": {
      "needs_background": "light"
     },
     "output_type": "display_data"
    },
    {
     "name": "stdout",
     "output_type": "stream",
     "text": [
      "              precision    recall  f1-score   support\n",
      "\n",
      "           0       0.97      0.71      0.82      3130\n",
      "           1       0.78      0.98      0.86      3211\n",
      "\n",
      "    accuracy                           0.84      6341\n",
      "   macro avg       0.87      0.84      0.84      6341\n",
      "weighted avg       0.87      0.84      0.84      6341\n",
      "\n"
     ]
    }
   ],
   "source": [
    "confusionMat(nb_clf_t,X_test,y_test,0)"
   ]
  },
  {
   "cell_type": "code",
   "execution_count": 33,
   "metadata": {},
   "outputs": [
    {
     "data": {
      "image/png": "[encoded data removed]",
      "text/plain": [
       "<Figure size 432x288 with 2 Axes>"
      ]
     },
     "metadata": {
      "needs_background": "light"
     },
     "output_type": "display_data"
    },
    {
     "name": "stdout",
     "output_type": "stream",
     "text": [
      "              precision    recall  f1-score   support\n",
      "\n",
      "           0       0.99      0.94      0.96      3130\n",
      "           1       0.94      0.99      0.96      3211\n",
      "\n",
      "    accuracy                           0.96      6341\n",
      "   macro avg       0.96      0.96      0.96      6341\n",
      "weighted avg       0.96      0.96      0.96      6341\n",
      "\n"
     ]
    }
   ],
   "source": [
    "confusionMat(ada_clf_t,X_test,y_test,0)"
   ]
  },
  {
   "cell_type": "code",
   "execution_count": 34,
   "metadata": {},
   "outputs": [
    {
     "data": {
      "image/png": "[encoded data removed]",
      "text/plain": [
       "<Figure size 432x288 with 2 Axes>"
      ]
     },
     "metadata": {
      "needs_background": "light"
     },
     "output_type": "display_data"
    },
    {
     "name": "stdout",
     "output_type": "stream",
     "text": [
      "              precision    recall  f1-score   support\n",
      "\n",
      "           0       0.99      0.97      0.98      3130\n",
      "           1       0.97      0.99      0.98      3211\n",
      "\n",
      "    accuracy                           0.98      6341\n",
      "   macro avg       0.98      0.98      0.98      6341\n",
      "weighted avg       0.98      0.98      0.98      6341\n",
      "\n"
     ]
    }
   ],
   "source": [
    "confusionMat(knn_clf_t,X_test,y_test,0)"
   ]
  },
  {
   "cell_type": "code",
   "execution_count": 35,
   "metadata": {},
   "outputs": [
    {
     "data": {
      "image/png": "[encoded data removed]",
      "text/plain": [
       "<Figure size 432x288 with 2 Axes>"
      ]
     },
     "metadata": {
      "needs_background": "light"
     },
     "output_type": "display_data"
    },
    {
     "name": "stdout",
     "output_type": "stream",
     "text": [
      "              precision    recall  f1-score   support\n",
      "\n",
      "           0       0.98      0.93      0.96      3130\n",
      "           1       0.94      0.98      0.96      3211\n",
      "\n",
      "    accuracy                           0.96      6341\n",
      "   macro avg       0.96      0.96      0.96      6341\n",
      "weighted avg       0.96      0.96      0.96      6341\n",
      "\n"
     ]
    }
   ],
   "source": [
    "confusionMat(svc_clf_t,X_test,y_test,0)"
   ]
  },
  {
   "cell_type": "code",
   "execution_count": 36,
   "metadata": {},
   "outputs": [
    {
     "name": "stderr",
     "output_type": "stream",
     "text": [
      "C:\\ProgramData\\Anaconda3\\lib\\site-packages\\tensorflow\\python\\keras\\engine\\sequential.py:450: UserWarning: `model.predict_classes()` is deprecated and will be removed after 2021-01-01. Please use instead:* `np.argmax(model.predict(x), axis=-1)`,   if your model does multi-class classification   (e.g. if it uses a `softmax` last-layer activation).* `(model.predict(x) > 0.5).astype(\"int32\")`,   if your model does binary classification   (e.g. if it uses a `sigmoid` last-layer activation).\n",
      "  warnings.warn('`model.predict_classes()` is deprecated and '\n"
     ]
    },
    {
     "data": {
      "image/png": "[encoded data removed]",
      "text/plain": [
       "<Figure size 432x288 with 2 Axes>"
      ]
     },
     "metadata": {
      "needs_background": "light"
     },
     "output_type": "display_data"
    },
    {
     "name": "stdout",
     "output_type": "stream",
     "text": [
      "              precision    recall  f1-score   support\n",
      "\n",
      "           0       0.99      0.97      0.98      3130\n",
      "           1       0.97      0.99      0.98      3211\n",
      "\n",
      "    accuracy                           0.98      6341\n",
      "   macro avg       0.98      0.98      0.98      6341\n",
      "weighted avg       0.98      0.98      0.98      6341\n",
      "\n"
     ]
    }
   ],
   "source": [
    "confusionMat(nn_clf_t,X_test,y_test,1)"
   ]
  },
  {
   "cell_type": "code",
   "execution_count": null,
   "metadata": {},
   "outputs": [],
   "source": []
  },
  {
   "cell_type": "code",
   "execution_count": null,
   "metadata": {},
   "outputs": [],
   "source": []
  },
  {
   "cell_type": "code",
   "execution_count": null,
   "metadata": {},
   "outputs": [],
   "source": []
  }
 ],
 "metadata": {
  "kernelspec": {
   "display_name": "Python 3",
   "language": "python",
   "name": "python3"
  },
  "language_info": {
   "codemirror_mode": {
    "name": "ipython",
    "version": 3
   },
   "file_extension": ".py",
   "mimetype": "text/x-python",
   "name": "python",
   "nbconvert_exporter": "python",
   "pygments_lexer": "ipython3",
   "version": "3.8.5"
  }
 },
 "nbformat": 4,
 "nbformat_minor": 4
}
