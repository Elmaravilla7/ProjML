{
 "cells": [
  {
   "cell_type": "code",
   "execution_count": 19,
   "metadata": {},
   "outputs": [],
   "source": [
    "import os\n",
    "import glob\n",
    "import numpy as np\n",
    "import pandas as pd\n",
    "import multiprocessing\n",
    "import random\n",
    "from sklearn.model_selection import train_test_split\n",
    "from sklearn.model_selection import cross_val_score\n",
    "from collections import Counter\n",
    "from sklearn.linear_model import SGDClassifier,LogisticRegression\n",
    "from sklearn.naive_bayes import GaussianNB\n",
    "from sklearn.svm import SVC\n",
    "from sklearn.metrics import accuracy_score,f1_score,roc_auc_score,precision_score,recall_score\n",
    "from sklearn.base import BaseEstimator, TransformerMixin\n",
    "from sklearn.ensemble import AdaBoostClassifier\n",
    "from sklearn.tree import DecisionTreeClassifier\n",
    "from sklearn.model_selection import KFold\n",
    "from sklearn.neighbors import KNeighborsClassifier\n",
    "from sklearn.model_selection import GridSearchCV\n",
    "from sklearn.preprocessing import LabelEncoder\n",
    "from tensorflow.keras.utils import to_categorical\n",
    "from tensorflow.keras.wrappers.scikit_learn import KerasClassifier\n",
    "from tensorflow import keras\n",
    "from tensorflow.keras import layers  \n",
    "from tensorflow.keras.wrappers.scikit_learn import KerasClassifier\n",
    "import matplotlib.pyplot as plt\n",
    "from tensorflow.keras.models import Sequential\n",
    "import seaborn as sns\n",
    "from sklearn.metrics import confusion_matrix,classification_report\n",
    "import pickle as pkl\n",
    "import warnings\n",
    "from tensorflow.keras.models import model_from_json\n",
    "from tensorflow.keras.layers import Dense, Activation,Conv2D,MaxPooling2D,Flatten,Dropout\n",
    "from sklearn.preprocessing import MinMaxScaler\n",
    "from sklearn import metrics\n",
    "import matplotlib\n",
    "from sklearn.decomposition import PCA\n",
    "import re\n",
    "import string\n",
    "import nltk\n",
    "from nltk.corpus import stopwords\n",
    "import gensim\n",
    "from sklearn.base import BaseEstimator, TransformerMixin\n",
    "from sklearn.feature_extraction.text import CountVectorizer\n",
    "from sklearn.ensemble import RandomForestClassifier\n",
    "from sklearn.preprocessing import LabelEncoder\n",
    "from sklearn.preprocessing import OneHotEncoder\n",
    "from gensim.models.doc2vec import Doc2Vec, TaggedDocument\n",
    "\n",
    "cores = multiprocessing.cpu_count()"
   ]
  },
  {
   "cell_type": "code",
   "execution_count": 2,
   "metadata": {},
   "outputs": [],
   "source": [
    "PATH1=\"C://Users//emiliocasella//Desktop//ProgettoML//testi-2//ham//\"\n",
    "PATH2=\"C://Users//emiliocasella//Desktop//ProgettoML//testi-2//spam//\""
   ]
  },
  {
   "cell_type": "code",
   "execution_count": 3,
   "metadata": {},
   "outputs": [],
   "source": [
    "def readFile(file):\n",
    "    f = open(file, encoding=\"latin-1\")\n",
    "    return f.read()\n",
    "\n",
    "def loadD(PATH1,PATH2):\n",
    "    target=[]\n",
    "    data=[]\n",
    "    fnames1=glob.glob(PATH1+'*.txt')\n",
    "    fnames2=glob.glob(PATH2+'*.txt')\n",
    "    for f1 in fnames1:\n",
    "        data.append(readFile(f1))\n",
    "        target.append(0)#ham\n",
    "    for f2 in fnames2:\n",
    "        data.append(readFile(f2))\n",
    "        target.append(1)#spam\n",
    "    \n",
    "    return pd.DataFrame(list(zip(data, target)), \n",
    "                        columns =['text', 'target']).sample(frac=1).reset_index(drop=True)\n",
    "    "
   ]
  },
  {
   "cell_type": "code",
   "execution_count": 4,
   "metadata": {},
   "outputs": [
    {
     "data": {
      "text/html": [
       "<div>\n",
       "<style scoped>\n",
       "    .dataframe tbody tr th:only-of-type {\n",
       "        vertical-align: middle;\n",
       "    }\n",
       "\n",
       "    .dataframe tbody tr th {\n",
       "        vertical-align: top;\n",
       "    }\n",
       "\n",
       "    .dataframe thead th {\n",
       "        text-align: right;\n",
       "    }\n",
       "</style>\n",
       "<table border=\"1\" class=\"dataframe\">\n",
       "  <thead>\n",
       "    <tr style=\"text-align: right;\">\n",
       "      <th></th>\n",
       "      <th>text</th>\n",
       "      <th>target</th>\n",
       "    </tr>\n",
       "  </thead>\n",
       "  <tbody>\n",
       "    <tr>\n",
       "      <th>0</th>\n",
       "      <td>Subject: revised 2002 plan for public relation...</td>\n",
       "      <td>0</td>\n",
       "    </tr>\n",
       "    <tr>\n",
       "      <th>1</th>\n",
       "      <td>Subject: hot penny play on strong breakout\\nse...</td>\n",
       "      <td>1</td>\n",
       "    </tr>\n",
       "    <tr>\n",
       "      <th>2</th>\n",
       "      <td>Subject: tape drives ( internal charset = us -...</td>\n",
       "      <td>1</td>\n",
       "    </tr>\n",
       "    <tr>\n",
       "      <th>3</th>\n",
       "      <td>Subject: 00971 50 2443308 kevin contact me\\nhe...</td>\n",
       "      <td>1</td>\n",
       "    </tr>\n",
       "    <tr>\n",
       "      <th>4</th>\n",
       "      <td>Subject: extending opportunity hassle free\\nco...</td>\n",
       "      <td>1</td>\n",
       "    </tr>\n",
       "  </tbody>\n",
       "</table>\n",
       "</div>"
      ],
      "text/plain": [
       "                                                text  target\n",
       "0  Subject: revised 2002 plan for public relation...       0\n",
       "1  Subject: hot penny play on strong breakout\\nse...       1\n",
       "2  Subject: tape drives ( internal charset = us -...       1\n",
       "3  Subject: 00971 50 2443308 kevin contact me\\nhe...       1\n",
       "4  Subject: extending opportunity hassle free\\nco...       1"
      ]
     },
     "execution_count": 4,
     "metadata": {},
     "output_type": "execute_result"
    }
   ],
   "source": [
    "df=loadD(PATH1,PATH2)\n",
    "df.head()"
   ]
  },
  {
   "cell_type": "code",
   "execution_count": 5,
   "metadata": {},
   "outputs": [],
   "source": [
    "def prep_text(text):\n",
    "        text = text.lower()\n",
    "        text = re.sub('\\[.*?\\]', '', text)\n",
    "        text = re.sub('https?://\\S+|www\\.\\S+', '', text)\n",
    "        text = re.sub('<.*?>+', '', text)\n",
    "        text = re.sub('[%s]' % re.escape(string.punctuation), '', text)\n",
    "        text = re.sub('\\n', '', text)\n",
    "        text = re.sub('\\w*\\d\\w*', '', text)\n",
    "        tokenizer = nltk.tokenize.RegexpTokenizer(r'\\w+')\n",
    "        text=tokenizer.tokenize(text)\n",
    "        stop_words = stopwords.words('english')\n",
    "        text=remove_stopwords(text,stop_words)\n",
    "        return text\n",
    "    \n",
    "def remove_stopwords(text,stop_words):\n",
    "    words = [w for w in text if w not in stop_words]\n",
    "    return words\n",
    "\n",
    "class MyTokenizer(BaseEstimator, TransformerMixin):\n",
    "    def __init__(self):\n",
    "        pass\n",
    "    \n",
    "    def fit(self, X, y):\n",
    "        return self\n",
    "    \n",
    "    def transform(self, X,y):\n",
    "        for c in y:\n",
    "            for i in range(0,len(X[c])):\n",
    "                X.at[i,c] =prep_text(X[c][i])"
   ]
  },
  {
   "cell_type": "code",
   "execution_count": 6,
   "metadata": {},
   "outputs": [
    {
     "data": {
      "text/html": [
       "<div>\n",
       "<style scoped>\n",
       "    .dataframe tbody tr th:only-of-type {\n",
       "        vertical-align: middle;\n",
       "    }\n",
       "\n",
       "    .dataframe tbody tr th {\n",
       "        vertical-align: top;\n",
       "    }\n",
       "\n",
       "    .dataframe thead th {\n",
       "        text-align: right;\n",
       "    }\n",
       "</style>\n",
       "<table border=\"1\" class=\"dataframe\">\n",
       "  <thead>\n",
       "    <tr style=\"text-align: right;\">\n",
       "      <th></th>\n",
       "      <th>text</th>\n",
       "      <th>target</th>\n",
       "    </tr>\n",
       "  </thead>\n",
       "  <tbody>\n",
       "    <tr>\n",
       "      <th>0</th>\n",
       "      <td>[subject, revised, plan, public, relationshere...</td>\n",
       "      <td>0</td>\n",
       "    </tr>\n",
       "    <tr>\n",
       "      <th>1</th>\n",
       "      <td>[subject, hot, penny, play, strong, breakoutse...</td>\n",
       "      <td>1</td>\n",
       "    </tr>\n",
       "    <tr>\n",
       "      <th>2</th>\n",
       "      <td>[subject, tape, drives, internal, charset, us,...</td>\n",
       "      <td>1</td>\n",
       "    </tr>\n",
       "    <tr>\n",
       "      <th>3</th>\n",
       "      <td>[subject, kevin, contact, mehello, entire, mem...</td>\n",
       "      <td>1</td>\n",
       "    </tr>\n",
       "    <tr>\n",
       "      <th>4</th>\n",
       "      <td>[subject, extending, opportunity, hassle, free...</td>\n",
       "      <td>1</td>\n",
       "    </tr>\n",
       "  </tbody>\n",
       "</table>\n",
       "</div>"
      ],
      "text/plain": [
       "                                                text  target\n",
       "0  [subject, revised, plan, public, relationshere...       0\n",
       "1  [subject, hot, penny, play, strong, breakoutse...       1\n",
       "2  [subject, tape, drives, internal, charset, us,...       1\n",
       "3  [subject, kevin, contact, mehello, entire, mem...       1\n",
       "4  [subject, extending, opportunity, hassle, free...       1"
      ]
     },
     "execution_count": 6,
     "metadata": {},
     "output_type": "execute_result"
    }
   ],
   "source": [
    "MyTokenizer().transform(df,['text'])\n",
    "df.head()"
   ]
  },
  {
   "cell_type": "code",
   "execution_count": 7,
   "metadata": {},
   "outputs": [],
   "source": [
    "df.to_pickle(\"C://Users//emiliocasella//Desktop//ProgettoML//txt//cleanwords\")"
   ]
  },
  {
   "cell_type": "code",
   "execution_count": 16,
   "metadata": {},
   "outputs": [],
   "source": [
    "def contaP(tab,numW):\n",
    "    words_freq={}\n",
    "    data=[]\n",
    "    frauTot = df[df['target'] == tab]\n",
    "    text=frauTot['text']\n",
    "    for i in text:\n",
    "        for word in i:\n",
    "            data.append(word)\n",
    "    for key in data:\n",
    "        if key not in words_freq:\n",
    "            words_freq[key]=1\n",
    "        else:\n",
    "            words_freq[key]+=1\n",
    "    sort=sorted(words_freq.items(), key=lambda x: x[1], reverse=True)\n",
    "    return sort[:numW]"
   ]
  },
  {
   "cell_type": "code",
   "execution_count": 17,
   "metadata": {},
   "outputs": [
    {
     "data": {
      "image/png": "[encoded data removed]",
      "text/plain": [
       "<Figure size 1440x576 with 1 Axes>"
      ]
     },
     "metadata": {
      "needs_background": "light"
     },
     "output_type": "display_data"
    }
   ],
   "source": [
    "hamFreq=contaP(0,25)\n",
    "plt.figure(1,figsize=(20,8))\n",
    "plt.xticks(rotation='90')\n",
    "x,y=map(list,zip(*hamFreq))\n",
    "sns.barplot(x=y,y=x,color='blue')\n",
    "plt.title('Top 25 words in ham table')\n",
    "plt.show()"
   ]
  },
  {
   "cell_type": "code",
   "execution_count": 18,
   "metadata": {},
   "outputs": [
    {
     "data": {
      "image/png": "[encoded data removed]",
      "text/plain": [
       "<Figure size 1440x576 with 1 Axes>"
      ]
     },
     "metadata": {
      "needs_background": "light"
     },
     "output_type": "display_data"
    }
   ],
   "source": [
    "spamFreq=contaP(1,25)\n",
    "plt.figure(1,figsize=(20,8))\n",
    "plt.xticks(rotation='90')\n",
    "x,y=map(list,zip(*spamFreq))\n",
    "sns.barplot(x=y,y=x,color='red')\n",
    "plt.title('Top 25 words in spam table')\n",
    "plt.show()"
   ]
  },
  {
   "cell_type": "code",
   "execution_count": 41,
   "metadata": {},
   "outputs": [],
   "source": [
    "def cleanV(elements):\n",
    "    modificata = np.zeros(308)\n",
    "    for e in elements:\n",
    "        modificata = np.vstack((modificata, e))\n",
    "    return modificata[1:]\n",
    "\n",
    "def createIndex(numWords):\n",
    "    indexWords={}\n",
    "    words=[]\n",
    "    topWHam=contaP(0,numWords)\n",
    "    topWSpam=contaP(1,numWords)\n",
    "    for i in range(len(topWHam)):\n",
    "        words.append(topWHam[i][0])\n",
    "    for i in range(len(topWSpam)):\n",
    "        words.append(topWSpam[i][0])\n",
    "    i=0\n",
    "    for word in words:\n",
    "        if word not in indexWords:\n",
    "            indexWords[word]=i\n",
    "            i=i+1\n",
    "    return indexWords\n",
    "\n",
    "def createEmbeddings(text,indexWords):\n",
    "    vector=np.zeros(len(indexWords),dtype=int)\n",
    "    for word in text:\n",
    "        if word in indexWords:\n",
    "            i=indexWords[word]\n",
    "            if(vector[i]==0):\n",
    "                vector[i]=1\n",
    "            else:\n",
    "                vector[i]=vector[i]+1\n",
    "    return vector\n",
    "\n",
    "class MyEmbeddings(BaseEstimator, TransformerMixin):\n",
    "    def __init__(self):\n",
    "        pass\n",
    "    \n",
    "    def fit(self, X, y):\n",
    "        return self\n",
    "    \n",
    "    def transform(self, X,y):\n",
    "        index=createIndex(200)\n",
    "        for c in y:\n",
    "            for i in range(0,len(X[c])):\n",
    "                X.at[i,c] =createEmbeddings(X[c][i],index)"
   ]
  },
  {
   "cell_type": "code",
   "execution_count": 20,
   "metadata": {},
   "outputs": [
    {
     "data": {
      "text/html": [
       "<div>\n",
       "<style scoped>\n",
       "    .dataframe tbody tr th:only-of-type {\n",
       "        vertical-align: middle;\n",
       "    }\n",
       "\n",
       "    .dataframe tbody tr th {\n",
       "        vertical-align: top;\n",
       "    }\n",
       "\n",
       "    .dataframe thead th {\n",
       "        text-align: right;\n",
       "    }\n",
       "</style>\n",
       "<table border=\"1\" class=\"dataframe\">\n",
       "  <thead>\n",
       "    <tr style=\"text-align: right;\">\n",
       "      <th></th>\n",
       "      <th>text</th>\n",
       "      <th>target</th>\n",
       "    </tr>\n",
       "  </thead>\n",
       "  <tbody>\n",
       "    <tr>\n",
       "      <th>0</th>\n",
       "      <td>[0, 0, 1, 0, 0, 0, 0, 0, 0, 0, 0, 0, 0, 0, 0, ...</td>\n",
       "      <td>1</td>\n",
       "    </tr>\n",
       "    <tr>\n",
       "      <th>1</th>\n",
       "      <td>[0, 0, 2, 0, 0, 0, 1, 0, 0, 0, 0, 0, 0, 0, 1, ...</td>\n",
       "      <td>0</td>\n",
       "    </tr>\n",
       "    <tr>\n",
       "      <th>2</th>\n",
       "      <td>[0, 0, 1, 0, 0, 0, 0, 0, 0, 0, 0, 0, 0, 0, 0, ...</td>\n",
       "      <td>0</td>\n",
       "    </tr>\n",
       "    <tr>\n",
       "      <th>3</th>\n",
       "      <td>[0, 0, 1, 0, 0, 0, 0, 0, 0, 0, 0, 0, 0, 0, 1, ...</td>\n",
       "      <td>1</td>\n",
       "    </tr>\n",
       "    <tr>\n",
       "      <th>4</th>\n",
       "      <td>[0, 0, 1, 0, 0, 0, 1, 0, 1, 0, 0, 0, 0, 0, 0, ...</td>\n",
       "      <td>1</td>\n",
       "    </tr>\n",
       "  </tbody>\n",
       "</table>\n",
       "</div>"
      ],
      "text/plain": [
       "                                                text  target\n",
       "0  [0, 0, 1, 0, 0, 0, 0, 0, 0, 0, 0, 0, 0, 0, 0, ...       1\n",
       "1  [0, 0, 2, 0, 0, 0, 1, 0, 0, 0, 0, 0, 0, 0, 1, ...       0\n",
       "2  [0, 0, 1, 0, 0, 0, 0, 0, 0, 0, 0, 0, 0, 0, 0, ...       0\n",
       "3  [0, 0, 1, 0, 0, 0, 0, 0, 0, 0, 0, 0, 0, 0, 1, ...       1\n",
       "4  [0, 0, 1, 0, 0, 0, 1, 0, 1, 0, 0, 0, 0, 0, 0, ...       1"
      ]
     },
     "execution_count": 20,
     "metadata": {},
     "output_type": "execute_result"
    }
   ],
   "source": [
    "MyEmbeddings().transform(df,['text'])\n",
    "df.head()"
   ]
  },
  {
   "cell_type": "code",
   "execution_count": 22,
   "metadata": {},
   "outputs": [],
   "source": [
    "df.to_pickle(\"C://Users//emiliocasella//Desktop//ProgettoML//txt//embeddings\")"
   ]
  },
  {
   "cell_type": "code",
   "execution_count": 53,
   "metadata": {},
   "outputs": [],
   "source": [
    "def saveM(model,fname):\n",
    "    fname=fname+'.model'\n",
    "    pkl.dump(model, open(fname, 'wb'))\n",
    "\n",
    "def loadM(fname):\n",
    "    return pkl.load(open(fname+'.model', 'rb'))\n",
    "\n",
    "def saveNN(model,fname):\n",
    "    json_model = model.model.to_json()\n",
    "    open('nn.json', 'w').write(json_model)\n",
    "    model.model.save_weights('nn.h5', overwrite=True)\n",
    "\n",
    "def loadNN(fname):\n",
    "    model = model_from_json(open(fname+'.json').read())\n",
    "    model.load_weights(fname+'.h5')\n",
    "    model.compile(loss='sparse_categorical_crossentropy', optimizer='adam', metrics=['accuracy'])\n",
    "    return model"
   ]
  },
  {
   "cell_type": "code",
   "execution_count": 25,
   "metadata": {},
   "outputs": [],
   "source": [
    "X=cleanV(df['text'].to_numpy())\n",
    "y=df.target.to_numpy()"
   ]
  },
  {
   "cell_type": "code",
   "execution_count": 29,
   "metadata": {},
   "outputs": [],
   "source": [
    "def create_network():\n",
    "    model = keras.Sequential()\n",
    "    model.add(keras.layers.Dense(64, activation='relu',input_dim=308))\n",
    "    model.add(keras.layers.Dense(32, activation='relu'))\n",
    "    model.add(keras.layers.Dense(1, activation='sigmoid'))\n",
    "    model.compile(optimizer='adam',\n",
    "              loss='binary_crossentropy',\n",
    "              metrics=['accuracy'])\n",
    "    return model\n",
    "\n",
    "class MyClassificatorTrainNN(BaseEstimator, TransformerMixin):\n",
    "    \n",
    "    def __init__(self):\n",
    "        pass\n",
    "    \n",
    "    def fit(self, X, y):\n",
    "        return self\n",
    "\n",
    "    def transform(self, X,y):\n",
    "        X_train, X_test, y_train, y_test =train_test_split(X, y,\n",
    "                                                        test_size=0.2,shuffle=True) \n",
    "        print(\"Tuning NN...\")\n",
    "        nn_clf = KerasClassifier(build_fn=create_network, epochs=5, verbose=0)\n",
    "        nn_clf.fit(X_train,y_train)\n",
    "        saveNN(nn_clf,\"nn\")"
   ]
  },
  {
   "cell_type": "code",
   "execution_count": 55,
   "metadata": {},
   "outputs": [],
   "source": [
    "def compute_performance(estimators, X, y):\n",
    "    score_dict = {}\n",
    "    for e in estimators:\n",
    "        score_dict[e.__class__.__name__] = {}\n",
    "        cv = KFold(n_splits=10, random_state=1, shuffle=True)\n",
    "        score = cross_val_score(e, X ,y, cv=cv ,scoring='accuracy',n_jobs=-1)\n",
    "        score_dict[e.__class__.__name__]['accuracy/std'] = (np.round(np.mean(score),3),np.round(np.std(score),3))\n",
    "    return score_dict\n",
    "\n",
    "\n",
    "def tuningLR(X_train,y_train,logreg):\n",
    "    param_logreg_grid = [\n",
    "    {'penalty': ['l2'], 'solver': ['newton-cg', 'sag','lbfgs']},\n",
    "    ]\n",
    "    grid_search = GridSearchCV(logreg, param_logreg_grid, cv=10,\n",
    "                           scoring='accuracy', return_train_score=True)\n",
    "    grid_search.fit(X_train, y_train)\n",
    "    print(\"Best Param:\", grid_search.best_params_)\n",
    "    best_logreg = grid_search.best_estimator_\n",
    "    return best_logreg\n",
    "\n",
    "\n",
    "def tuningSGD(X_train,y_train,sgd):\n",
    "    param_sgd_grid = [\n",
    "    {'penalty': ['l2'], 'loss': ['hinge','log', 'squared_hinge', 'perceptron']},\n",
    "    ]\n",
    "    grid_search = GridSearchCV(sgd, param_sgd_grid, cv=10,\n",
    "                           scoring='accuracy', return_train_score=True)\n",
    "    grid_search.fit(X_train, y_train)\n",
    "    print(\"Best Param:\", grid_search.best_params_)\n",
    "    best_sgd = grid_search.best_estimator_\n",
    "    return best_sgd\n",
    "\n",
    "\n",
    "\n",
    "def tuningKNN(X_train,y_train,knn):\n",
    "    model = KNeighborsClassifier(n_jobs=-1)\n",
    "    params = {'n_neighbors':[4,5,6,7,8],\n",
    "          'weights':['distance'],\n",
    "          'algorithm':['auto']\n",
    "             }\n",
    "    grid_search = GridSearchCV(knn, params,scoring='accuracy',n_jobs=-1, cv=10)\n",
    "    grid_search.fit(X_train, y_train)\n",
    "    print(\"Best Param:\", grid_search.best_params_)\n",
    "    best_KNN = grid_search.best_estimator_\n",
    "    return best_KNN\n",
    "\n",
    "def tuningSVC(X_train,y_train,svc):\n",
    "    param_svc_grid ={'kernel': ['poly', 'linear', 'rbf','sigmoid'],\n",
    "                      'degree':[2]},\n",
    "    grid_search = GridSearchCV(svc, param_svc_grid,scoring='accuracy',n_jobs=-1, cv=10)\n",
    "    grid_search.fit(X_train, y_train)\n",
    "    print(\"Best Param:\", grid_search.best_params_)\n",
    "    best_svc = grid_search.best_estimator_\n",
    "    return best_svc\n",
    "\n",
    "\n",
    "\n",
    "\n",
    "class MyClassificatorTrain(BaseEstimator, TransformerMixin):\n",
    "    \n",
    "    def __init__(self):\n",
    "        pass\n",
    "    \n",
    "    def fit(self, X, y):\n",
    "        return self\n",
    "\n",
    "    def transform(self, X,y):\n",
    "        X_train, X_test, y_train, y_test =train_test_split(X, y,\n",
    "                                                     test_size=0.2,shuffle=True)\n",
    "        \n",
    "        print(\"Tuning Logistic Regression...\")\n",
    "        logreg_clf = LogisticRegression(max_iter=1000)\n",
    "        logreg_clf.fit(X_train,y_train)\n",
    "        logreg_best=tuningLR(X_train,y_train,logreg_clf)\n",
    "        saveM(logreg_best,\"logreg\")\n",
    "        print(\"Tuning Stochastic Gradient Descent...\")\n",
    "        sgd_clf = SGDClassifier(max_iter=5, tol=-np.infty, random_state=42)\n",
    "        sgd_clf.fit(X_train,y_train)\n",
    "        sgd_best=tuningSGD(X_train,y_train,sgd_clf)\n",
    "        saveM(sgd_best,\"sgd\")\n",
    "        print(\"Gaussian...\")\n",
    "        nb_clf = GaussianNB()\n",
    "        nb_clf.fit(X_train,y_train)\n",
    "        saveM(nb_clf,\"nb\")\n",
    "        print(\"AdaBoost...\")\n",
    "        ada_clf=AdaBoostClassifier(DecisionTreeClassifier(max_depth=1),n_estimators=600, algorithm='SAMME.R',learning_rate=.5).fit(X_train,y_train)\n",
    "        saveM(ada_clf,\"ada\")\n",
    "        print(\"Tuning KNN...\")\n",
    "        knn_clf=KNeighborsClassifier(weights=\"distance\")\n",
    "        knn_clf.fit(X_train, y_train)\n",
    "        knn_best=tuningKNN(X_train,y_train,knn_clf)\n",
    "        saveM(knn_best,\"knn\")\n",
    "        print(\"Tuning SVC...\")\n",
    "        svc_clf=SVC(gamma='auto')\n",
    "        svc_clf.fit(X_train, y_train)\n",
    "        svc_best = tuningSVC(X_train,y_train,svc_clf)\n",
    "        saveM(svc_best,\"svc\")\n",
    "        MyClassificatorTrainNN().transform(X,y)\n",
    "        print(\"All models Done!\")\n",
    "        "
   ]
  },
  {
   "cell_type": "code",
   "execution_count": 28,
   "metadata": {},
   "outputs": [
    {
     "name": "stdout",
     "output_type": "stream",
     "text": [
      "Tuning Logistic Regression...\n"
     ]
    },
    {
     "name": "stderr",
     "output_type": "stream",
     "text": [
      "C:\\ProgramData\\Anaconda3\\lib\\site-packages\\sklearn\\linear_model\\_sag.py:329: ConvergenceWarning: The max_iter was reached which means the coef_ did not converge\n",
      "  warnings.warn(\"The max_iter was reached which means \"\n",
      "C:\\ProgramData\\Anaconda3\\lib\\site-packages\\sklearn\\linear_model\\_sag.py:329: ConvergenceWarning: The max_iter was reached which means the coef_ did not converge\n",
      "  warnings.warn(\"The max_iter was reached which means \"\n",
      "C:\\ProgramData\\Anaconda3\\lib\\site-packages\\sklearn\\linear_model\\_sag.py:329: ConvergenceWarning: The max_iter was reached which means the coef_ did not converge\n",
      "  warnings.warn(\"The max_iter was reached which means \"\n",
      "C:\\ProgramData\\Anaconda3\\lib\\site-packages\\sklearn\\linear_model\\_sag.py:329: ConvergenceWarning: The max_iter was reached which means the coef_ did not converge\n",
      "  warnings.warn(\"The max_iter was reached which means \"\n",
      "C:\\ProgramData\\Anaconda3\\lib\\site-packages\\sklearn\\linear_model\\_sag.py:329: ConvergenceWarning: The max_iter was reached which means the coef_ did not converge\n",
      "  warnings.warn(\"The max_iter was reached which means \"\n",
      "C:\\ProgramData\\Anaconda3\\lib\\site-packages\\sklearn\\linear_model\\_sag.py:329: ConvergenceWarning: The max_iter was reached which means the coef_ did not converge\n",
      "  warnings.warn(\"The max_iter was reached which means \"\n",
      "C:\\ProgramData\\Anaconda3\\lib\\site-packages\\sklearn\\linear_model\\_sag.py:329: ConvergenceWarning: The max_iter was reached which means the coef_ did not converge\n",
      "  warnings.warn(\"The max_iter was reached which means \"\n",
      "C:\\ProgramData\\Anaconda3\\lib\\site-packages\\sklearn\\linear_model\\_sag.py:329: ConvergenceWarning: The max_iter was reached which means the coef_ did not converge\n",
      "  warnings.warn(\"The max_iter was reached which means \"\n",
      "C:\\ProgramData\\Anaconda3\\lib\\site-packages\\sklearn\\linear_model\\_sag.py:329: ConvergenceWarning: The max_iter was reached which means the coef_ did not converge\n",
      "  warnings.warn(\"The max_iter was reached which means \"\n",
      "C:\\ProgramData\\Anaconda3\\lib\\site-packages\\sklearn\\linear_model\\_sag.py:329: ConvergenceWarning: The max_iter was reached which means the coef_ did not converge\n",
      "  warnings.warn(\"The max_iter was reached which means \"\n"
     ]
    },
    {
     "name": "stdout",
     "output_type": "stream",
     "text": [
      "Best Param: {'penalty': 'l2', 'solver': 'newton-cg'}\n",
      "Tuning Stochastic Gradient Descent...\n",
      "Best Param: {'loss': 'log', 'penalty': 'l2'}\n",
      "Gaussian...\n",
      "AdaBoost...\n",
      "Tuning KNN...\n",
      "Best Param: {'algorithm': 'auto', 'n_neighbors': 4, 'weights': 'distance'}\n",
      "Tuning SVC...\n",
      "Best Param: {'degree': 2, 'kernel': 'linear'}\n",
      "Preprocessing for NN...\n",
      "Tuning NN...\n",
      "All models Done!\n"
     ]
    }
   ],
   "source": [
    "MyClassificatorTrain().transform(X,y)"
   ]
  },
  {
   "cell_type": "code",
   "execution_count": 30,
   "metadata": {},
   "outputs": [
    {
     "data": {
      "text/html": [
       "<div>\n",
       "<style scoped>\n",
       "    .dataframe tbody tr th:only-of-type {\n",
       "        vertical-align: middle;\n",
       "    }\n",
       "\n",
       "    .dataframe tbody tr th {\n",
       "        vertical-align: top;\n",
       "    }\n",
       "\n",
       "    .dataframe thead th {\n",
       "        text-align: right;\n",
       "    }\n",
       "</style>\n",
       "<table border=\"1\" class=\"dataframe\">\n",
       "  <thead>\n",
       "    <tr style=\"text-align: right;\">\n",
       "      <th></th>\n",
       "      <th>LogisticRegression</th>\n",
       "      <th>SGDClassifier</th>\n",
       "      <th>GaussianNB</th>\n",
       "      <th>AdaBoostClassifier</th>\n",
       "      <th>KNeighborsClassifier</th>\n",
       "      <th>SVC</th>\n",
       "      <th>KerasClassifier</th>\n",
       "    </tr>\n",
       "  </thead>\n",
       "  <tbody>\n",
       "    <tr>\n",
       "      <th>accuracy/std</th>\n",
       "      <td>(0.955, 0.002)</td>\n",
       "      <td>(0.945, 0.009)</td>\n",
       "      <td>(0.85, 0.004)</td>\n",
       "      <td>(0.958, 0.003)</td>\n",
       "      <td>(0.934, 0.002)</td>\n",
       "      <td>(0.955, 0.003)</td>\n",
       "      <td>(0.968, 0.002)</td>\n",
       "    </tr>\n",
       "  </tbody>\n",
       "</table>\n",
       "</div>"
      ],
      "text/plain": [
       "             LogisticRegression   SGDClassifier     GaussianNB  \\\n",
       "accuracy/std     (0.955, 0.002)  (0.945, 0.009)  (0.85, 0.004)   \n",
       "\n",
       "             AdaBoostClassifier KNeighborsClassifier             SVC  \\\n",
       "accuracy/std     (0.958, 0.003)       (0.934, 0.002)  (0.955, 0.003)   \n",
       "\n",
       "             KerasClassifier  \n",
       "accuracy/std  (0.968, 0.002)  "
      ]
     },
     "execution_count": 30,
     "metadata": {},
     "output_type": "execute_result"
    }
   ],
   "source": [
    "logreg_clf=LogisticRegression(penalty='l2', solver='newton-cg', max_iter=1000)\n",
    "sgd_clf=SGDClassifier(loss=\"log\", penalty=\"l2\", max_iter=5, tol=-np.infty, random_state=42)\n",
    "nb_clf=GaussianNB()\n",
    "ada_clf=AdaBoostClassifier(DecisionTreeClassifier(max_depth=1),n_estimators=600, algorithm='SAMME.R',learning_rate=.5)\n",
    "knn_clf=KNeighborsClassifier(n_neighbors=4,algorithm='auto',weights=\"distance\")\n",
    "svc_clf=SVC(kernel='linear',degree=2)\n",
    "nn_clf = KerasClassifier(build_fn=create_network, epochs=5, verbose=0)\n",
    "score_dict=compute_performance([logreg_clf,sgd_clf,nb_clf,ada_clf,knn_clf,svc_clf,nn_clf], X, y)\n",
    "score_df = pd.DataFrame(score_dict)\n",
    "score_df.to_csv(\"C://Users//emiliocasella//Desktop//ProgettoML//10fold.csv\")\n",
    "score_df.head()"
   ]
  },
  {
   "cell_type": "code",
   "execution_count": 72,
   "metadata": {},
   "outputs": [],
   "source": [
    "def confusionMat(clf,X_test,y_test,type):\n",
    "    if(type==0):\n",
    "        pred = clf.predict(X_test)\n",
    "    else:\n",
    "        pred = clf.predict_classes(X_test)\n",
    "    score=accuracy_score(y_test, pred)\n",
    "    ax =sns.heatmap(confusion_matrix(y_test, pred), annot=True, fmt='.1f', cmap=sns.color_palette(\"Reds\", 25))\n",
    "    bottom, top = ax.get_ylim()\n",
    "    ax.set_ylim(bottom + 0.5, top - 0.5)\n",
    "    plt.savefig(clf.__class__.__name__+'.png') \n",
    "    plt.show()\n",
    "    print(classification_report(y_test, pred)) \n"
   ]
  },
  {
   "cell_type": "code",
   "execution_count": 33,
   "metadata": {},
   "outputs": [],
   "source": [
    "X_train, X_test, y_train, y_test =train_test_split(X, y,test_size=0.2)\n",
    "logreg_clf_t=loadM(\"logreg\")\n",
    "sgd_clf_t=loadM(\"sgd\")\n",
    "nb_clf_t=loadM(\"nb\")\n",
    "ada_clf_t=loadM(\"ada\")\n",
    "knn_clf_t=loadM(\"knn\")\n",
    "svc_clf_t=loadM(\"svc\")\n",
    "nn_clf_t=loadNN(\"nn\")"
   ]
  },
  {
   "cell_type": "code",
   "execution_count": 34,
   "metadata": {},
   "outputs": [
    {
     "data": {
      "image/png": "[encoded data removed]",
      "text/plain": [
       "<Figure size 432x288 with 2 Axes>"
      ]
     },
     "metadata": {
      "needs_background": "light"
     },
     "output_type": "display_data"
    },
    {
     "name": "stdout",
     "output_type": "stream",
     "text": [
      "              precision    recall  f1-score   support\n",
      "\n",
      "           0       0.98      0.93      0.95      3107\n",
      "           1       0.94      0.98      0.96      3234\n",
      "\n",
      "    accuracy                           0.96      6341\n",
      "   macro avg       0.96      0.96      0.96      6341\n",
      "weighted avg       0.96      0.96      0.96      6341\n",
      "\n"
     ]
    }
   ],
   "source": [
    "confusionMat(logreg_clf_t,X_test,y_test,0)"
   ]
  },
  {
   "cell_type": "code",
   "execution_count": 35,
   "metadata": {},
   "outputs": [
    {
     "data": {
      "image/png": "[encoded data removed]",
      "text/plain": [
       "<Figure size 432x288 with 2 Axes>"
      ]
     },
     "metadata": {
      "needs_background": "light"
     },
     "output_type": "display_data"
    },
    {
     "name": "stdout",
     "output_type": "stream",
     "text": [
      "              precision    recall  f1-score   support\n",
      "\n",
      "           0       0.96      0.94      0.95      3107\n",
      "           1       0.95      0.96      0.95      3234\n",
      "\n",
      "    accuracy                           0.95      6341\n",
      "   macro avg       0.95      0.95      0.95      6341\n",
      "weighted avg       0.95      0.95      0.95      6341\n",
      "\n"
     ]
    }
   ],
   "source": [
    "confusionMat(sgd_clf_t,X_test,y_test,0)"
   ]
  },
  {
   "cell_type": "code",
   "execution_count": 36,
   "metadata": {},
   "outputs": [
    {
     "data": {
      "image/png": "[encoded data removed]",
      "text/plain": [
       "<Figure size 432x288 with 2 Axes>"
      ]
     },
     "metadata": {
      "needs_background": "light"
     },
     "output_type": "display_data"
    },
    {
     "name": "stdout",
     "output_type": "stream",
     "text": [
      "              precision    recall  f1-score   support\n",
      "\n",
      "           0       0.97      0.70      0.82      3107\n",
      "           1       0.77      0.98      0.87      3234\n",
      "\n",
      "    accuracy                           0.85      6341\n",
      "   macro avg       0.87      0.84      0.84      6341\n",
      "weighted avg       0.87      0.85      0.84      6341\n",
      "\n"
     ]
    }
   ],
   "source": [
    "confusionMat(nb_clf_t,X_test,y_test,0)"
   ]
  },
  {
   "cell_type": "code",
   "execution_count": 37,
   "metadata": {},
   "outputs": [
    {
     "data": {
      "image/png": "[encoded data removed]",
      "text/plain": [
       "<Figure size 432x288 with 2 Axes>"
      ]
     },
     "metadata": {
      "needs_background": "light"
     },
     "output_type": "display_data"
    },
    {
     "name": "stdout",
     "output_type": "stream",
     "text": [
      "              precision    recall  f1-score   support\n",
      "\n",
      "           0       0.99      0.93      0.96      3107\n",
      "           1       0.94      0.99      0.96      3234\n",
      "\n",
      "    accuracy                           0.96      6341\n",
      "   macro avg       0.96      0.96      0.96      6341\n",
      "weighted avg       0.96      0.96      0.96      6341\n",
      "\n"
     ]
    }
   ],
   "source": [
    "confusionMat(ada_clf_t,X_test,y_test,0)"
   ]
  },
  {
   "cell_type": "code",
   "execution_count": 38,
   "metadata": {},
   "outputs": [
    {
     "data": {
      "image/png": "[encoded data removed]",
      "text/plain": [
       "<Figure size 432x288 with 2 Axes>"
      ]
     },
     "metadata": {
      "needs_background": "light"
     },
     "output_type": "display_data"
    },
    {
     "name": "stdout",
     "output_type": "stream",
     "text": [
      "              precision    recall  f1-score   support\n",
      "\n",
      "           0       0.99      0.97      0.98      3107\n",
      "           1       0.97      0.99      0.98      3234\n",
      "\n",
      "    accuracy                           0.98      6341\n",
      "   macro avg       0.98      0.98      0.98      6341\n",
      "weighted avg       0.98      0.98      0.98      6341\n",
      "\n"
     ]
    }
   ],
   "source": [
    "confusionMat(knn_clf_t,X_test,y_test,0)"
   ]
  },
  {
   "cell_type": "code",
   "execution_count": 39,
   "metadata": {},
   "outputs": [
    {
     "data": {
      "image/png": "[encoded data removed]",
      "text/plain": [
       "<Figure size 432x288 with 2 Axes>"
      ]
     },
     "metadata": {
      "needs_background": "light"
     },
     "output_type": "display_data"
    },
    {
     "name": "stdout",
     "output_type": "stream",
     "text": [
      "              precision    recall  f1-score   support\n",
      "\n",
      "           0       0.99      0.93      0.96      3107\n",
      "           1       0.94      0.99      0.96      3234\n",
      "\n",
      "    accuracy                           0.96      6341\n",
      "   macro avg       0.96      0.96      0.96      6341\n",
      "weighted avg       0.96      0.96      0.96      6341\n",
      "\n"
     ]
    }
   ],
   "source": [
    "confusionMat(svc_clf_t,X_test,y_test,0)"
   ]
  },
  {
   "cell_type": "code",
   "execution_count": 40,
   "metadata": {},
   "outputs": [
    {
     "name": "stderr",
     "output_type": "stream",
     "text": [
      "C:\\ProgramData\\Anaconda3\\lib\\site-packages\\tensorflow\\python\\keras\\engine\\sequential.py:450: UserWarning: `model.predict_classes()` is deprecated and will be removed after 2021-01-01. Please use instead:* `np.argmax(model.predict(x), axis=-1)`,   if your model does multi-class classification   (e.g. if it uses a `softmax` last-layer activation).* `(model.predict(x) > 0.5).astype(\"int32\")`,   if your model does binary classification   (e.g. if it uses a `sigmoid` last-layer activation).\n",
      "  warnings.warn('`model.predict_classes()` is deprecated and '\n"
     ]
    },
    {
     "data": {
      "image/png": "[encoded data removed]",
      "text/plain": [
       "<Figure size 432x288 with 2 Axes>"
      ]
     },
     "metadata": {
      "needs_background": "light"
     },
     "output_type": "display_data"
    },
    {
     "name": "stdout",
     "output_type": "stream",
     "text": [
      "              precision    recall  f1-score   support\n",
      "\n",
      "           0       0.99      0.97      0.98      3107\n",
      "           1       0.97      0.99      0.98      3234\n",
      "\n",
      "    accuracy                           0.98      6341\n",
      "   macro avg       0.98      0.98      0.98      6341\n",
      "weighted avg       0.98      0.98      0.98      6341\n",
      "\n"
     ]
    }
   ],
   "source": [
    "confusionMat(nn_clf_t,X_test,y_test,1)"
   ]
  },
  {
   "cell_type": "code",
   "execution_count": 59,
   "metadata": {},
   "outputs": [],
   "source": [
    "d2vec=pd.read_pickle(\"C://Users//emiliocasella//Desktop//ProgettoML//txt//cleanwords\")"
   ]
  },
  {
   "cell_type": "code",
   "execution_count": 61,
   "metadata": {},
   "outputs": [],
   "source": [
    "words=d2vec.text.to_list()\n",
    "target=d2vec.text.to_numpy()\n",
    "documents = [TaggedDocument(words[i], target[i]) for i in range(len(target))]\n",
    "model = gensim.models.Doc2Vec(documents, vector_size=400, window=2, min_count=1, workers=cores)#10 epochs default da mettere a 30"
   ]
  },
  {
   "cell_type": "code",
   "execution_count": 62,
   "metadata": {
    "scrolled": true
   },
   "outputs": [],
   "source": [
    "model.save('d2vec'+'.model')"
   ]
  },
  {
   "cell_type": "code",
   "execution_count": 63,
   "metadata": {},
   "outputs": [],
   "source": [
    "def convert_mean(text,model):\n",
    "    vectors=model.infer_vector(text)\n",
    "    return vectors\n",
    "\n",
    "class MyDoc2vec(BaseEstimator, TransformerMixin):\n",
    "    def __init__(self):\n",
    "        pass\n",
    "    \n",
    "    def fit(self, X, y,model):\n",
    "        return self\n",
    "    \n",
    "    def transform(self, X,y,model):\n",
    "        for c in y:\n",
    "            for i in range(0,len(X[c])):\n",
    "                X.at[i,c] =convert_mean(X[c][i],model)"
   ]
  },
  {
   "cell_type": "code",
   "execution_count": 64,
   "metadata": {},
   "outputs": [
    {
     "data": {
      "text/html": [
       "<div>\n",
       "<style scoped>\n",
       "    .dataframe tbody tr th:only-of-type {\n",
       "        vertical-align: middle;\n",
       "    }\n",
       "\n",
       "    .dataframe tbody tr th {\n",
       "        vertical-align: top;\n",
       "    }\n",
       "\n",
       "    .dataframe thead th {\n",
       "        text-align: right;\n",
       "    }\n",
       "</style>\n",
       "<table border=\"1\" class=\"dataframe\">\n",
       "  <thead>\n",
       "    <tr style=\"text-align: right;\">\n",
       "      <th></th>\n",
       "      <th>text</th>\n",
       "      <th>target</th>\n",
       "    </tr>\n",
       "  </thead>\n",
       "  <tbody>\n",
       "    <tr>\n",
       "      <th>0</th>\n",
       "      <td>[0.058114238, 0.05571867, -0.027982699, -0.011...</td>\n",
       "      <td>0</td>\n",
       "    </tr>\n",
       "    <tr>\n",
       "      <th>1</th>\n",
       "      <td>[0.28034782, 0.57762504, -0.09668313, 0.011925...</td>\n",
       "      <td>1</td>\n",
       "    </tr>\n",
       "    <tr>\n",
       "      <th>2</th>\n",
       "      <td>[0.24666317, 0.3552892, -0.042701695, 0.013978...</td>\n",
       "      <td>1</td>\n",
       "    </tr>\n",
       "    <tr>\n",
       "      <th>3</th>\n",
       "      <td>[0.38981912, 0.8491164, -0.06796088, -0.048244...</td>\n",
       "      <td>1</td>\n",
       "    </tr>\n",
       "    <tr>\n",
       "      <th>4</th>\n",
       "      <td>[0.1919503, 0.40763566, -0.11364173, -0.047951...</td>\n",
       "      <td>1</td>\n",
       "    </tr>\n",
       "  </tbody>\n",
       "</table>\n",
       "</div>"
      ],
      "text/plain": [
       "                                                text  target\n",
       "0  [0.058114238, 0.05571867, -0.027982699, -0.011...       0\n",
       "1  [0.28034782, 0.57762504, -0.09668313, 0.011925...       1\n",
       "2  [0.24666317, 0.3552892, -0.042701695, 0.013978...       1\n",
       "3  [0.38981912, 0.8491164, -0.06796088, -0.048244...       1\n",
       "4  [0.1919503, 0.40763566, -0.11364173, -0.047951...       1"
      ]
     },
     "execution_count": 64,
     "metadata": {},
     "output_type": "execute_result"
    }
   ],
   "source": [
    "MyDoc2vec().transform(d2vec,['text'],model)\n",
    "d2vec.head()"
   ]
  },
  {
   "cell_type": "code",
   "execution_count": 67,
   "metadata": {},
   "outputs": [],
   "source": [
    "def cleanV2(elements):\n",
    "    modificata = np.zeros(400)\n",
    "    for e in elements:\n",
    "        modificata = np.vstack((modificata, e))\n",
    "    return modificata[1:]\n",
    "\n",
    "\n",
    "class MyRandomForest(BaseEstimator, TransformerMixin):\n",
    "    \n",
    "    def __init__(self):\n",
    "        pass\n",
    "    \n",
    "    def fit(self, X, y):\n",
    "        return self\n",
    "\n",
    "    def transform(self, X,y):\n",
    "        X_train, X_test, y_train, y_test =train_test_split(X, y,\n",
    "                                                        test_size=0.2,shuffle=True) \n",
    "        print(\"Tuning Random Forest Classifier...\")\n",
    "        rnd_clf = LogisticRegression(max_iter=1000)\n",
    "        rnd_clf.fit(X_train,y_train)\n",
    "        saveM(rnd_clf,\"randomForest\")\n",
    "        score_dict=compute_performance([rnd_clf], X, y)\n",
    "        return score_dict"
   ]
  },
  {
   "cell_type": "code",
   "execution_count": 68,
   "metadata": {},
   "outputs": [],
   "source": [
    "X_doc2vec=cleanV2(d2vec['text'].to_numpy())\n",
    "y_doc2vec=d2vec.target.to_numpy()"
   ]
  },
  {
   "cell_type": "code",
   "execution_count": 69,
   "metadata": {},
   "outputs": [
    {
     "name": "stdout",
     "output_type": "stream",
     "text": [
      "Tuning Random Forest Classifier...\n"
     ]
    },
    {
     "data": {
      "text/html": [
       "<div>\n",
       "<style scoped>\n",
       "    .dataframe tbody tr th:only-of-type {\n",
       "        vertical-align: middle;\n",
       "    }\n",
       "\n",
       "    .dataframe tbody tr th {\n",
       "        vertical-align: top;\n",
       "    }\n",
       "\n",
       "    .dataframe thead th {\n",
       "        text-align: right;\n",
       "    }\n",
       "</style>\n",
       "<table border=\"1\" class=\"dataframe\">\n",
       "  <thead>\n",
       "    <tr style=\"text-align: right;\">\n",
       "      <th></th>\n",
       "      <th>LogisticRegression</th>\n",
       "    </tr>\n",
       "  </thead>\n",
       "  <tbody>\n",
       "    <tr>\n",
       "      <th>accuracy/std</th>\n",
       "      <td>(0.88, 0.004)</td>\n",
       "    </tr>\n",
       "  </tbody>\n",
       "</table>\n",
       "</div>"
      ],
      "text/plain": [
       "             LogisticRegression\n",
       "accuracy/std      (0.88, 0.004)"
      ]
     },
     "execution_count": 69,
     "metadata": {},
     "output_type": "execute_result"
    }
   ],
   "source": [
    "score_dict=MyRandomForest().transform(X_doc2vec,y_doc2vec)\n",
    "score_df = pd.DataFrame(score_dict)\n",
    "score_df.to_csv(\"C://Users//emiliocasella//Desktop//ProgettoML//10foldDoc2vec.csv\")\n",
    "score_df.head()"
   ]
  },
  {
   "cell_type": "code",
   "execution_count": 70,
   "metadata": {},
   "outputs": [],
   "source": [
    "X_train, X_test, y_train, y_test =train_test_split(X_doc2vec, y_doc2vec,test_size=0.2)\n",
    "rnd_clf_t=loadM(\"randomForest\")"
   ]
  },
  {
   "cell_type": "code",
   "execution_count": 73,
   "metadata": {},
   "outputs": [
    {
     "data": {
      "image/png": "[encoded data removed]",
      "text/plain": [
       "<Figure size 432x288 with 2 Axes>"
      ]
     },
     "metadata": {
      "needs_background": "light"
     },
     "output_type": "display_data"
    },
    {
     "name": "stdout",
     "output_type": "stream",
     "text": [
      "              precision    recall  f1-score   support\n",
      "\n",
      "           0       0.88      0.88      0.88      3075\n",
      "           1       0.89      0.89      0.89      3266\n",
      "\n",
      "    accuracy                           0.89      6341\n",
      "   macro avg       0.89      0.89      0.89      6341\n",
      "weighted avg       0.89      0.89      0.89      6341\n",
      "\n"
     ]
    }
   ],
   "source": [
    "confusionMat(rnd_clf_t,X_test,y_test,0)"
   ]
  },
  {
   "cell_type": "code",
   "execution_count": 72,
   "metadata": {},
   "outputs": [
    {
     "data": {
      "image/png": "[encoded data removed]",
      "text/plain": [
       "<Figure size 432x288 with 1 Axes>"
      ]
     },
     "metadata": {},
     "output_type": "display_data"
    }
   ],
   "source": [
    "dataFrame=pd.read_pickle(\"C://Users//emiliocasella//Desktop//ProgettoML//txt//embeddings\")\n",
    "pie=dataFrame['target'].value_counts()\n",
    "correctData=dataFrame[dataFrame['target']==1]\n",
    "anomalyData=dataFrame[dataFrame['target']==0]\n",
    "labels=[\"Ham \"+str(pie[0]),\"Spam \"+str(pie[1])]\n",
    "plt.pie(pie, labels=labels,colors=['darkblue','darkorange'])\n",
    "plt.show()"
   ]
  },
  {
   "cell_type": "code",
   "execution_count": 73,
   "metadata": {},
   "outputs": [],
   "source": [
    "def bestPCA(correctData_X_train,correctData_X_test,anomalyData_X,correctData_y_test,anomalyData_y):\n",
    "    indexR=[]\n",
    "    roc=[]\n",
    "    for i in range (0,308,2):\n",
    "        model = PCA(n_components=i)\n",
    "        model.fit(correctData_X_train)\n",
    "        values=np.concatenate((correctData_X_test,anomalyData_X))\n",
    "        labels=np.concatenate((correctData_y_test,anomalyData_y))\n",
    "        predictions=model.inverse_transform(model.transform(values))\n",
    "        roc.append(roc2(values,predictions,labels))\n",
    "        indexR.append(i)\n",
    "    return indexR[np.argmax(roc)]\n",
    "\n",
    "def plotErrAnom(correct_error,anomaly_error):\n",
    "    plt.plot(correct_error,color=\"green\",label='Errors')\n",
    "    plt.plot(np.arange(len(correct_error),len(correct_error)+len(anomaly_error)),anomaly_error,color=\"red\",label='Anomaly')\n",
    "    plt.legend(loc=\"upper left\")\n",
    "    plt.show()\n",
    "    \n",
    "def mean_squared_err(true,pred):\n",
    "    err=[]\n",
    "    col=true.shape[1]\n",
    "    true=list(true)\n",
    "    pred=list(pred)\n",
    "    for i in range(len(true)):\n",
    "        p=pred[i]\n",
    "        t=true[i]\n",
    "        e=p-t\n",
    "        e=e**2\n",
    "        e=np.sum(e)\n",
    "        e=e/col\n",
    "        err.append(e)\n",
    "    return np.array(err)  \n",
    "\n",
    "def roc(values,predictions,labels):\n",
    "    error= mean_squared_err(values,predictions)\n",
    "    roc_x=[]\n",
    "    roc_y=[]\n",
    "    roc=0\n",
    "    oldfpr=0\n",
    "    oldtpr=0\n",
    "    steps=100\n",
    "    scaler = MinMaxScaler(feature_range=(0,1))\n",
    "    error =1- scaler.fit_transform(error.reshape(-1,1))\n",
    "    fpr,tpr,th=metrics.roc_curve(labels,error)\n",
    "    for i in range(len(fpr)):\n",
    "        FPR,TPR=fpr[i],tpr[i]\n",
    "        roc+=(TPR+oldtpr)*(FPR-oldfpr)/2\n",
    "        oldfpr=FPR\n",
    "        oldtpr=TPR\n",
    "        roc_x.append(FPR)\n",
    "        roc_y.append(TPR)        \n",
    "    plt.plot([0]+roc_x, [0]+roc_y, label='ROC curve (area = %0.3f)' % roc)\n",
    "    plt.plot([0,1], [0,1], linestyle=':')\n",
    "    plt.xlabel('False Positive Rate')\n",
    "    plt.ylabel('True Positive Rate')\n",
    "    plt.title('Receiver operating characteristic')\n",
    "    plt.legend(loc=\"lower left\")\n",
    "    plt.show()\n",
    "    return roc\n",
    "\n",
    "\n",
    "def roc2(values,predictions,labels):\n",
    "    error= mean_squared_err(values,predictions)\n",
    "    roc_x=[]\n",
    "    roc_y=[]\n",
    "    roc=0\n",
    "    oldfpr=0\n",
    "    oldtpr=0\n",
    "    steps=100\n",
    "    scaler = MinMaxScaler(feature_range=(0,1))\n",
    "    error =1- scaler.fit_transform(error.reshape(-1,1))\n",
    "    fpr,tpr,th=metrics.roc_curve(labels,error)\n",
    "    for i in range(len(fpr)):\n",
    "        FPR,TPR=fpr[i],tpr[i]\n",
    "        roc+=(TPR+oldtpr)*(FPR-oldfpr)/2\n",
    "        oldfpr=FPR\n",
    "        oldtpr=TPR\n",
    "        roc_x.append(FPR)\n",
    "        roc_y.append(TPR)        \n",
    "    return roc\n",
    "\n",
    "def thresholdErr(error,max_threshold):\n",
    "    x=[]\n",
    "    for i in error:\n",
    "        if(i>max_threshold):\n",
    "            x.append(0)\n",
    "        else:\n",
    "            x.append(1)\n",
    "    return x\n",
    "\n",
    "class MyClassificatorAnomaly(BaseEstimator, TransformerMixin):\n",
    "    \n",
    "    def __init__(self):\n",
    "        pass\n",
    "    \n",
    "    def fit(self, correctData, anomalyData):\n",
    "        return self\n",
    "\n",
    "    def transform(self, correctData, anomalyData):\n",
    "        correctData_y=correctData.target.to_numpy()\n",
    "        correctData_X=cleanV(correctData['text'].to_numpy())\n",
    "        correctData_X_train,correctData_X_test,correctData_y_train,correctData_y_test=train_test_split(correctData_X,correctData_y,test_size=0.2,shuffle=True)\n",
    "        anomalyData_y=anomalyData.target.to_numpy()\n",
    "        anomalyData_X=cleanV(anomalyData['text'].to_numpy())\n",
    "        anomalyData_X_train,anomalyData_X_test,anomalyData_y_train,anomalyData_y_test=train_test_split(anomalyData_X,anomalyData_y,test_size=0.2,shuffle=True)\n",
    "        print(\"Tuning anomaly detections with PCA...\")\n",
    "        best=bestPCA(correctData_X_train,correctData_X_test,anomalyData_X,correctData_y_test,anomalyData_y)\n",
    "        print(\"Best PCA values \"+ str(best))\n",
    "        model = PCA(n_components=best)\n",
    "        model.fit(correctData_X_train)\n",
    "        predicted_correct=model.inverse_transform(model.transform(correctData_X_test))\n",
    "        predicted_anomaly=model.inverse_transform(model.transform(anomalyData_X))\n",
    "        correct_error= mean_squared_err(correctData_X_test,predicted_correct)\n",
    "        anomaly_error= mean_squared_err(anomalyData_X,predicted_anomaly)\n",
    "        values=np.concatenate((correctData_X_test,anomalyData_X))\n",
    "        labels=np.concatenate((correctData_y_test,anomalyData_y))\n",
    "        predictions=model.inverse_transform(model.transform(values))\n",
    "        print(\"done!\")\n",
    "        return model,correct_error,anomaly_error,values,predictions,labels"
   ]
  },
  {
   "cell_type": "code",
   "execution_count": 74,
   "metadata": {},
   "outputs": [
    {
     "name": "stdout",
     "output_type": "stream",
     "text": [
      "Tuning anomaly detections with PCA...\n",
      "Best PCA values 278\n",
      "done!\n"
     ]
    }
   ],
   "source": [
    "model,correct_error,anomaly_error,values,predictions,labels=MyClassificatorAnomaly().transform(correctData, anomalyData)"
   ]
  },
  {
   "cell_type": "code",
   "execution_count": 75,
   "metadata": {},
   "outputs": [
    {
     "data": {
      "image/png": "[encoded data removed]",
      "text/plain": [
       "<Figure size 432x288 with 1 Axes>"
      ]
     },
     "metadata": {
      "needs_background": "light"
     },
     "output_type": "display_data"
    }
   ],
   "source": [
    "plotErrAnom(correct_error,anomaly_error)"
   ]
  },
  {
   "cell_type": "code",
   "execution_count": 76,
   "metadata": {},
   "outputs": [
    {
     "data": {
      "image/png": "[encoded data removed]",
      "text/plain": [
       "<Figure size 432x288 with 1 Axes>"
      ]
     },
     "metadata": {
      "needs_background": "light"
     },
     "output_type": "display_data"
    },
    {
     "data": {
      "text/plain": [
       "0.9135587773758065"
      ]
     },
     "execution_count": 76,
     "metadata": {},
     "output_type": "execute_result"
    }
   ],
   "source": [
    "roc(values,predictions,labels)"
   ]
  },
  {
   "cell_type": "code",
   "execution_count": 77,
   "metadata": {},
   "outputs": [],
   "source": [
    "saveM(model,\"BestAnomayModel\")"
   ]
  },
  {
   "cell_type": "code",
   "execution_count": 84,
   "metadata": {},
   "outputs": [],
   "source": [
    "dataFrame=pd.read_pickle(\"C://Users//emiliocasella//Desktop//ProgettoML//txt//embeddings\")\n",
    "X=cleanV(dataFrame['text'].to_numpy())\n",
    "y = dataFrame.target.to_numpy()"
   ]
  },
  {
   "cell_type": "code",
   "execution_count": 105,
   "metadata": {},
   "outputs": [
    {
     "data": {
      "text/plain": [
       "0.8690618888398208"
      ]
     },
     "execution_count": 105,
     "metadata": {},
     "output_type": "execute_result"
    }
   ],
   "source": [
    "anomaly_detection=loadM(\"BestAnomayModel\")\n",
    "pred=anomaly_detection.inverse_transform(anomaly_detection.transform(X))\n",
    "err= mean_squared_err(X,pred)\n",
    "y_pred=(np.array(thresholdErr(err,0.002)))\n",
    "accuracy_score(y,y_pred)"
   ]
  },
  {
   "cell_type": "code",
   "execution_count": null,
   "metadata": {},
   "outputs": [],
   "source": []
  }
 ],
 "metadata": {
  "kernelspec": {
   "display_name": "Python 3",
   "language": "python",
   "name": "python3"
  },
  "language_info": {
   "codemirror_mode": {
    "name": "ipython",
    "version": 3
   },
   "file_extension": ".py",
   "mimetype": "text/x-python",
   "name": "python",
   "nbconvert_exporter": "python",
   "pygments_lexer": "ipython3",
   "version": "3.8.5"
  }
 },
 "nbformat": 4,
 "nbformat_minor": 4
}
